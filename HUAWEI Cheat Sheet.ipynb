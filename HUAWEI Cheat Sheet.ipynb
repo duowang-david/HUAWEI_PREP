{
 "cells": [
  {
   "cell_type": "markdown",
   "metadata": {},
   "source": [
    "#### 数组去重"
   ]
  },
  {
   "cell_type": "code",
   "execution_count": 1,
   "metadata": {},
   "outputs": [
    {
     "data": {
      "text/plain": [
       "[3, 2, 1, 4, 5]"
      ]
     },
     "execution_count": 1,
     "metadata": {},
     "output_type": "execute_result"
    }
   ],
   "source": [
    "a = [3, 2, 1, 4, 5, 3, 2, 1]\n",
    "b = []\n",
    "for i in a:\n",
    "    if i not in b:\n",
    "        b.append(i)\n",
    "b"
   ]
  },
  {
   "cell_type": "markdown",
   "metadata": {},
   "source": [
    "#### Dynamic Programming - Fibonacci Sequence"
   ]
  },
  {
   "cell_type": "code",
   "execution_count": 2,
   "metadata": {},
   "outputs": [
    {
     "data": {
      "text/plain": [
       "39088169"
      ]
     },
     "execution_count": 2,
     "metadata": {},
     "output_type": "execute_result"
    }
   ],
   "source": [
    "# 1, 1, 2, 3, 5, 8, 13, 21, 34, 55\n",
    "# naive recursion\n",
    "def fib(n):\n",
    "    if n <= 2:\n",
    "        return 1\n",
    "    else:\n",
    "        return fib(n-2) + fib(n-1)\n",
    "fib(38)"
   ]
  },
  {
   "cell_type": "code",
   "execution_count": 3,
   "metadata": {},
   "outputs": [
    {
     "data": {
      "text/plain": [
       "39088169"
      ]
     },
     "execution_count": 3,
     "metadata": {},
     "output_type": "execute_result"
    }
   ],
   "source": [
    "# dynamic programming \n",
    "dic = {}\n",
    "def fib_d(n, dic):\n",
    "    if n in dic:\n",
    "        return dic[n]\n",
    "    if n <= 2:\n",
    "        dic[n] = 1 # 计算结果，存入\n",
    "    else:\n",
    "        dic[n] = fib_d(n-2, dic) + fib_d(n-1, dic) # 计算结果，存入\n",
    "    return dic[n]\n",
    "fib_d(38, dic)"
   ]
  },
  {
   "cell_type": "code",
   "execution_count": 4,
   "metadata": {},
   "outputs": [
    {
     "data": {
      "text/plain": [
       "39088169"
      ]
     },
     "execution_count": 4,
     "metadata": {},
     "output_type": "execute_result"
    }
   ],
   "source": [
    "# bottom up\n",
    "memo = {}\n",
    "def fib_b(n, dic):\n",
    "    for i in range(1, n+1):\n",
    "        if i <= 2:\n",
    "            dic[i] = 1\n",
    "        else:\n",
    "            dic[i] = dic[i-2] + dic[i-1]\n",
    "    return dic[i]\n",
    "fib_b(38, memo)"
   ]
  },
  {
   "cell_type": "markdown",
   "metadata": {},
   "source": [
    "#### 最长对称子序列"
   ]
  },
  {
   "cell_type": "code",
   "execution_count": 5,
   "metadata": {},
   "outputs": [
    {
     "name": "stdout",
     "output_type": "stream",
     "text": [
      "abba\n",
      "4\n",
      "\n"
     ]
    }
   ],
   "source": [
    "# 从中间往两边找\n",
    "def look(s, l, r):\n",
    "    while l >= 0 and r < len(s) and s[l] == s[r]:\n",
    "        l -= 1\n",
    "        r += 1\n",
    "    return s[l+1:r]\n",
    "\n",
    "while True:\n",
    "    try:\n",
    "        a = input()\n",
    "        o = 0\n",
    "        for i in range(len(a)):\n",
    "            b = look(a, i, i)\n",
    "            if len(b) > o:\n",
    "                o = len(b)\n",
    "            b = look(a, i, i+1)\n",
    "            if len(b) > o:\n",
    "                o = len(b)\n",
    "        print(o)\n",
    "    except:\n",
    "        break"
   ]
  },
  {
   "cell_type": "markdown",
   "metadata": {},
   "source": [
    "#### 最长公共子序列"
   ]
  },
  {
   "cell_type": "code",
   "execution_count": 6,
   "metadata": {},
   "outputs": [
    {
     "name": "stdout",
     "output_type": "stream",
     "text": [
      "abc\n",
      "aaaaaaabccdwieelslkd\n",
      "3\n",
      "\n"
     ]
    }
   ],
   "source": [
    "while True:\n",
    "    try:\n",
    "        e = input()\n",
    "        r = input()\n",
    "        if len(e) < len(r):\n",
    "            a = r\n",
    "            b = e\n",
    "        else:\n",
    "            a = e\n",
    "            b = r\n",
    "        i = 0\n",
    "        o = []\n",
    "        for m in a:\n",
    "            j = len(a)-1\n",
    "            for n in range(j-i):\n",
    "                if a[i:j+1] in b:\n",
    "                    o.append(a[i:j+1])\n",
    "                j -= 1\n",
    "            i += 1\n",
    "        mx = 0\n",
    "        for x in o:\n",
    "            if len(x) > mx:\n",
    "                mx = len(x)\n",
    "        print(mx)\n",
    "    except:\n",
    "        break"
   ]
  },
  {
   "cell_type": "code",
   "execution_count": null,
   "metadata": {},
   "outputs": [],
   "source": []
  }
 ],
 "metadata": {
  "kernelspec": {
   "display_name": "Python 3",
   "language": "python",
   "name": "python3"
  },
  "language_info": {
   "codemirror_mode": {
    "name": "ipython",
    "version": 3
   },
   "file_extension": ".py",
   "mimetype": "text/x-python",
   "name": "python",
   "nbconvert_exporter": "python",
   "pygments_lexer": "ipython3",
   "version": "3.7.4"
  }
 },
 "nbformat": 4,
 "nbformat_minor": 2
}
