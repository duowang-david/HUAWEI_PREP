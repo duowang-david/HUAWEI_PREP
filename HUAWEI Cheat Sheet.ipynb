{
 "cells": [
  {
   "cell_type": "markdown",
   "metadata": {},
   "source": [
    "#### Class Example"
   ]
  },
  {
   "cell_type": "code",
   "execution_count": 12,
   "metadata": {},
   "outputs": [],
   "source": [
    "class box:\n",
    "    def __init__(self, name, value):\n",
    "        self.name = name\n",
    "        self.value = value\n",
    "    def self_introduce(self):\n",
    "        print('My name is', self.name)\n",
    "    def get_value(self):\n",
    "        print('Value is', self.value)"
   ]
  },
  {
   "cell_type": "code",
   "execution_count": 13,
   "metadata": {},
   "outputs": [
    {
     "name": "stdout",
     "output_type": "stream",
     "text": [
      "Value is 15\n"
     ]
    }
   ],
   "source": [
    "a = box('Bob', 15)\n",
    "a.get_value()"
   ]
  },
  {
   "cell_type": "code",
   "execution_count": 14,
   "metadata": {},
   "outputs": [
    {
     "name": "stdout",
     "output_type": "stream",
     "text": [
      "My name is Alice\n"
     ]
    }
   ],
   "source": [
    "b = box('Alice', 43)\n",
    "b.self_introduce()"
   ]
  },
  {
   "cell_type": "markdown",
   "metadata": {},
   "source": [
    "#### Binary Search -- 有Bug"
   ]
  },
  {
   "cell_type": "code",
   "execution_count": 102,
   "metadata": {},
   "outputs": [],
   "source": [
    "# 运行结果不对，有bug\n",
    "def BS(arr, target):\n",
    "    left =0\n",
    "    right = len(arr) - 1\n",
    "    while right >= left:\n",
    "        mid = (left + right) // 2\n",
    "        if arr[mid] == target:\n",
    "            return mid\n",
    "        elif arr[mid] > target:\n",
    "            right = mid - 1\n",
    "        else:\n",
    "            left = mid + 1\n",
    "    return -1"
   ]
  },
  {
   "cell_type": "code",
   "execution_count": 125,
   "metadata": {},
   "outputs": [
    {
     "name": "stdout",
     "output_type": "stream",
     "text": [
      "0 3 6 8\n",
      "4 5 6 11\n"
     ]
    },
    {
     "data": {
      "text/plain": [
       "-1"
      ]
     },
     "execution_count": 125,
     "metadata": {},
     "output_type": "execute_result"
    }
   ],
   "source": [
    "arr = [-3, 4, 7, 8, 9, 11, 13]\n",
    "BS(arr, 9)"
   ]
  },
  {
   "cell_type": "code",
   "execution_count": 116,
   "metadata": {},
   "outputs": [],
   "source": [
    "# 结果正确\n",
    "def search(arr, target):\n",
    "    left = 0\n",
    "    right = len(arr) - 1\n",
    "    while left <= right:\n",
    "        mid = (left + right) // 2 # make sure to round it down\n",
    "        if arr[mid] == target:\n",
    "            return mid\n",
    "        elif target < arr[mid]:\n",
    "            right = mid - 1\n",
    "        else:\n",
    "            left = mid + 1\n",
    "    return -1"
   ]
  },
  {
   "cell_type": "code",
   "execution_count": 126,
   "metadata": {},
   "outputs": [
    {
     "data": {
      "text/plain": [
       "4"
      ]
     },
     "execution_count": 126,
     "metadata": {},
     "output_type": "execute_result"
    }
   ],
   "source": [
    "arr = [-3, 4, 7, 8, 9, 11, 13]\n",
    "search(arr, 9)"
   ]
  },
  {
   "cell_type": "markdown",
   "metadata": {},
   "source": [
    "##### Quick Sort"
   ]
  },
  {
   "cell_type": "code",
   "execution_count": 111,
   "metadata": {},
   "outputs": [],
   "source": [
    "def quicksort(arr):\n",
    "    qs(arr, 0, len(arr) - 1)\n",
    "\n",
    "def qs(arr, l, r):\n",
    "    if l >= r:\n",
    "        return\n",
    "    p = partition(arr, l, r)\n",
    "\n",
    "    qs(arr, l, p - 1)\n",
    "    qs(arr, p + 1, r)\n",
    "\n",
    "def partition(arr, l, r):\n",
    "    pivot = arr[r]\n",
    "    i = l - 1\n",
    "    for j in range(l, r):\n",
    "        if arr[j] < pivot:\n",
    "            i += 1\n",
    "            arr[i], arr[j] = arr[j], arr[i]\n",
    "    arr[i + 1], arr[r] = arr[r], arr[i + 1]\n",
    "    return i + 1"
   ]
  },
  {
   "cell_type": "code",
   "execution_count": 112,
   "metadata": {},
   "outputs": [
    {
     "data": {
      "text/plain": [
       "[-2, -1, 0, 1, 2, 3, 4]"
      ]
     },
     "execution_count": 112,
     "metadata": {},
     "output_type": "execute_result"
    }
   ],
   "source": [
    "a = [3, -2, -1, 0, 2, 4, 1]\n",
    "quicksort(a)\n",
    "a"
   ]
  },
  {
   "cell_type": "code",
   "execution_count": 11,
   "metadata": {},
   "outputs": [
    {
     "data": {
      "text/plain": [
       "[-2, -1, 0, 1, 2, 3, 4]"
      ]
     },
     "execution_count": 11,
     "metadata": {},
     "output_type": "execute_result"
    }
   ],
   "source": [
    "b = [3, -2, -1, 0, 2, 4, 1]\n",
    "b.sort()\n",
    "b"
   ]
  },
  {
   "cell_type": "markdown",
   "metadata": {},
   "source": [
    "#### 求n的阶乘 - 递归"
   ]
  },
  {
   "cell_type": "code",
   "execution_count": 47,
   "metadata": {},
   "outputs": [],
   "source": [
    "def fact(n):\n",
    "    if n != 1:\n",
    "        return n * fact(n-1)\n",
    "    else:\n",
    "        return 1"
   ]
  },
  {
   "cell_type": "code",
   "execution_count": 48,
   "metadata": {},
   "outputs": [
    {
     "data": {
      "text/plain": [
       "93326215443944152681699238856266700490715968264381621468592963895217599993229915608941463976156518286253697920827223758251185210916864000000000000000000000000"
      ]
     },
     "execution_count": 48,
     "metadata": {},
     "output_type": "execute_result"
    }
   ],
   "source": [
    "fact(100)"
   ]
  },
  {
   "cell_type": "markdown",
   "metadata": {},
   "source": [
    "#### 放苹果-递归"
   ]
  },
  {
   "cell_type": "markdown",
   "metadata": {},
   "source": [
    "m个苹果，n个盘子，有多少种 方法"
   ]
  },
  {
   "cell_type": "code",
   "execution_count": null,
   "metadata": {},
   "outputs": [],
   "source": [
    "def f(m,n):\n",
    "    if m == 0 or n == 1:\n",
    "        return 1\n",
    "    if m < 0 or n < 0:\n",
    "        return 0\n",
    "    else:\n",
    "        return (f(m, n-1)+f(m-n, n))\n",
    "while True:\n",
    "    try:\n",
    "        m,n = map(int,input().split())\n",
    "        print(f(m,n))\n",
    "          \n",
    "    except:\n",
    "        break"
   ]
  },
  {
   "cell_type": "markdown",
   "metadata": {},
   "source": [
    "#### Dynamic Programming - Fibonacci Sequence"
   ]
  },
  {
   "cell_type": "code",
   "execution_count": 2,
   "metadata": {},
   "outputs": [
    {
     "data": {
      "text/plain": [
       "39088169"
      ]
     },
     "execution_count": 2,
     "metadata": {},
     "output_type": "execute_result"
    }
   ],
   "source": [
    "# 1, 1, 2, 3, 5, 8, 13, 21, 34, 55\n",
    "# naive recursion\n",
    "def fib(n):\n",
    "    if n <= 2:\n",
    "        return 1\n",
    "    else:\n",
    "        return fib(n-2) + fib(n-1)\n",
    "fib(38)"
   ]
  },
  {
   "cell_type": "code",
   "execution_count": 3,
   "metadata": {},
   "outputs": [
    {
     "data": {
      "text/plain": [
       "39088169"
      ]
     },
     "execution_count": 3,
     "metadata": {},
     "output_type": "execute_result"
    }
   ],
   "source": [
    "# dynamic programming \n",
    "dic = {}\n",
    "def fib_d(n, dic):\n",
    "    if n in dic:\n",
    "        return dic[n]\n",
    "    if n <= 2:\n",
    "        dic[n] = 1 # 计算结果，存入\n",
    "    else:\n",
    "        dic[n] = fib_d(n-2, dic) + fib_d(n-1, dic) # 计算结果，存入\n",
    "    return dic[n]\n",
    "fib_d(38, dic)"
   ]
  },
  {
   "cell_type": "code",
   "execution_count": 4,
   "metadata": {},
   "outputs": [
    {
     "data": {
      "text/plain": [
       "39088169"
      ]
     },
     "execution_count": 4,
     "metadata": {},
     "output_type": "execute_result"
    }
   ],
   "source": [
    "# bottom up\n",
    "memo = {}\n",
    "def fib_b(n, dic):\n",
    "    for i in range(1, n+1):\n",
    "        if i <= 2:\n",
    "            dic[i] = 1\n",
    "        else:\n",
    "            dic[i] = dic[i-2] + dic[i-1]\n",
    "    return dic[i]\n",
    "fib_b(38, memo)"
   ]
  },
  {
   "cell_type": "markdown",
   "metadata": {},
   "source": [
    "#### 最长对称子序列 - 双指针从中间往两边找"
   ]
  },
  {
   "cell_type": "code",
   "execution_count": 5,
   "metadata": {},
   "outputs": [
    {
     "name": "stdout",
     "output_type": "stream",
     "text": [
      "abba\n",
      "4\n",
      "\n"
     ]
    }
   ],
   "source": [
    "def look(s, l, r):\n",
    "    while l >= 0 and r < len(s) and s[l] == s[r]:\n",
    "        l -= 1\n",
    "        r += 1\n",
    "    return s[l+1:r]\n",
    "\n",
    "while True:\n",
    "    try:\n",
    "        a = input()\n",
    "        o = 0\n",
    "        for i in range(len(a)):\n",
    "            b = look(a, i, i)\n",
    "            if len(b) > o:\n",
    "                o = len(b)\n",
    "            b = look(a, i, i+1)\n",
    "            if len(b) > o:\n",
    "                o = len(b)\n",
    "        print(o)\n",
    "    except:\n",
    "        break"
   ]
  },
  {
   "cell_type": "markdown",
   "metadata": {},
   "source": [
    "#### 最长公共子序列"
   ]
  },
  {
   "cell_type": "code",
   "execution_count": 6,
   "metadata": {},
   "outputs": [
    {
     "name": "stdout",
     "output_type": "stream",
     "text": [
      "abc\n",
      "aaaaaaabccdwieelslkd\n",
      "3\n",
      "\n"
     ]
    }
   ],
   "source": [
    "while True:\n",
    "    try:\n",
    "        e = input()\n",
    "        r = input()\n",
    "        if len(e) < len(r):\n",
    "            a = r\n",
    "            b = e\n",
    "        else:\n",
    "            a = e\n",
    "            b = r\n",
    "        i = 0\n",
    "        o = []\n",
    "        for m in a:\n",
    "            j = len(a)-1\n",
    "            for n in range(j-i):\n",
    "                if a[i:j+1] in b:\n",
    "                    o.append(a[i:j+1])\n",
    "                j -= 1\n",
    "            i += 1\n",
    "        mx = 0\n",
    "        for x in o:\n",
    "            if len(x) > mx:\n",
    "                mx = len(x)\n",
    "        print(mx)\n",
    "    except:\n",
    "        break"
   ]
  },
  {
   "cell_type": "code",
   "execution_count": null,
   "metadata": {},
   "outputs": [],
   "source": [
    "# 双指针，两边往中间找\n",
    "while True:\n",
    "    try:\n",
    "        a = input() # a is always shorter\n",
    "        b = input()\n",
    "        if len(a) > len(b):\n",
    "            a, b = b, a\n",
    "        out = []\n",
    "        l = 0\n",
    "        for i in range(len(a)):\n",
    "            r = len(a)\n",
    "            for j in range(i+1, r):\n",
    "                if a[l:r] in b:\n",
    "                    out.append(a[l:r])\n",
    "                r -= 1\n",
    "            l += 1\n",
    "        mx = 0\n",
    "        for i in out:\n",
    "            if len(i) > mx:\n",
    "                mx = len(i)\n",
    "        for i in out:\n",
    "            if len(i) == mx:\n",
    "                print(i)\n",
    "                break\n",
    "    except:\n",
    "        break"
   ]
  },
  {
   "cell_type": "code",
   "execution_count": null,
   "metadata": {},
   "outputs": [],
   "source": [
    "# 动态规划，矩阵存每个位置开始的重复长度，默认0\n",
    "while True:\n",
    "    try:\n",
    "        s1 = input()\n",
    "        s2 = input()\n",
    "        if len(s1) > len(s2):\n",
    "            s1, s2 = s2, s1\n",
    "        m, n = len(s1), len(s2)\n",
    "        dp = [[0] * (n+1) for _ in range(m+1)]\n",
    "        index, max_len = 0, 0\n",
    "        for i in range(1, m+1):\n",
    "            for j in range(1, n+1):\n",
    "                if s1[i-1] == s2[j-1]:\n",
    "                    dp[i][j] = dp[i-1][j-1] + 1\n",
    "                    if dp[i][j] > max_len:\n",
    "                        max_len = dp[i][j]\n",
    "                        index = i\n",
    "                else:\n",
    "                    dp[i][j] = 0\n",
    "        print(s1[index-max_len:index])\n",
    "    except:\n",
    "        break"
   ]
  },
  {
   "cell_type": "markdown",
   "metadata": {},
   "source": [
    "#### 最长上升子序列"
   ]
  },
  {
   "cell_type": "code",
   "execution_count": null,
   "metadata": {},
   "outputs": [],
   "source": []
  },
  {
   "cell_type": "markdown",
   "metadata": {},
   "source": [
    "#### 接收输入"
   ]
  },
  {
   "cell_type": "code",
   "execution_count": 73,
   "metadata": {},
   "outputs": [
    {
     "name": "stdout",
     "output_type": "stream",
     "text": [
      "s\n",
      "s\n",
      "3\n",
      "\n"
     ]
    }
   ],
   "source": [
    "while True:\n",
    "    try:\n",
    "        a = input()\n",
    "    except:\n",
    "        break"
   ]
  },
  {
   "cell_type": "code",
   "execution_count": 74,
   "metadata": {},
   "outputs": [],
   "source": [
    "import sys\n",
    "for s in sys.stdin:\n",
    "    a = int(s)"
   ]
  },
  {
   "cell_type": "markdown",
   "metadata": {},
   "source": [
    "#### 打印结果字符串"
   ]
  },
  {
   "cell_type": "code",
   "execution_count": 88,
   "metadata": {},
   "outputs": [
    {
     "name": "stdout",
     "output_type": "stream",
     "text": [
      "1\n"
     ]
    }
   ],
   "source": [
    "list = []\n",
    "list.append('1')\n",
    "print(''.join(list))"
   ]
  },
  {
   "cell_type": "markdown",
   "metadata": {},
   "source": [
    "#### 四则运算"
   ]
  },
  {
   "cell_type": "code",
   "execution_count": 7,
   "metadata": {},
   "outputs": [
    {
     "data": {
      "text/plain": [
       "25"
      ]
     },
     "execution_count": 7,
     "metadata": {},
     "output_type": "execute_result"
    }
   ],
   "source": [
    "a = \"3+2*{1+2*[-4/(8-6)+7]}\"\n",
    "a = a.replace('{', '(')\n",
    "a = a.replace('}', ')')\n",
    "a = a.replace('[', '(')\n",
    "a = a.replace(']', ')')\n",
    "b = int(eval(a))\n",
    "b"
   ]
  },
  {
   "cell_type": "markdown",
   "metadata": {},
   "source": [
    "#### 进制转换"
   ]
  },
  {
   "cell_type": "code",
   "execution_count": 49,
   "metadata": {},
   "outputs": [
    {
     "data": {
      "text/plain": [
       "15"
      ]
     },
     "execution_count": 49,
     "metadata": {},
     "output_type": "execute_result"
    }
   ],
   "source": [
    "#10转2:     \n",
    "bin(8)         # '0b1000'\n",
    "#2转10:     \n",
    "int('1000', 2) # 8\n",
    "#10转16:    \n",
    "hex(15)        # '0xf'\n",
    "#16转10:    \n",
    "int('f', 16)   # 15"
   ]
  },
  {
   "cell_type": "markdown",
   "metadata": {},
   "source": [
    "#### 二进制数中1的个数"
   ]
  },
  {
   "cell_type": "code",
   "execution_count": 80,
   "metadata": {},
   "outputs": [
    {
     "name": "stdout",
     "output_type": "stream",
     "text": [
      "15\n"
     ]
    },
    {
     "data": {
      "text/plain": [
       "4"
      ]
     },
     "execution_count": 80,
     "metadata": {},
     "output_type": "execute_result"
    }
   ],
   "source": [
    "bin(int(input())).count('1')"
   ]
  },
  {
   "cell_type": "markdown",
   "metadata": {},
   "source": [
    "#### ASCII转换"
   ]
  },
  {
   "cell_type": "code",
   "execution_count": 54,
   "metadata": {},
   "outputs": [
    {
     "data": {
      "text/plain": [
       "65"
      ]
     },
     "execution_count": 54,
     "metadata": {},
     "output_type": "execute_result"
    }
   ],
   "source": [
    "sum = ord('A') #结果为65\n",
    "sum"
   ]
  },
  {
   "cell_type": "code",
   "execution_count": 55,
   "metadata": {},
   "outputs": [
    {
     "data": {
      "text/plain": [
       "'A'"
      ]
     },
     "execution_count": 55,
     "metadata": {},
     "output_type": "execute_result"
    }
   ],
   "source": [
    "sum = chr(65) #结果为A\n",
    "sum"
   ]
  },
  {
   "cell_type": "markdown",
   "metadata": {},
   "source": [
    "#### 字符串替换元素"
   ]
  },
  {
   "cell_type": "code",
   "execution_count": 72,
   "metadata": {},
   "outputs": [
    {
     "data": {
      "text/plain": [
       "'Abcd'"
      ]
     },
     "execution_count": 72,
     "metadata": {},
     "output_type": "execute_result"
    }
   ],
   "source": [
    "# str.replace(old, new)  # no replace method for list\n",
    "a = 'abcd'\n",
    "a = a.replace('a', 'A')\n",
    "a"
   ]
  },
  {
   "cell_type": "markdown",
   "metadata": {},
   "source": [
    "#### 字符串排序"
   ]
  },
  {
   "cell_type": "code",
   "execution_count": 59,
   "metadata": {},
   "outputs": [
    {
     "data": {
      "text/plain": [
       "['A', 'C', 'a', 'b', 'c', 'd']"
      ]
     },
     "execution_count": 59,
     "metadata": {},
     "output_type": "execute_result"
    }
   ],
   "source": [
    "#大写在前（默认：数字-大写-小写）\n",
    "string = ['b', 'C', 'd', 'c', 'a', 'A']\n",
    "string.sort() \n",
    "string"
   ]
  },
  {
   "cell_type": "code",
   "execution_count": 60,
   "metadata": {},
   "outputs": [
    {
     "data": {
      "text/plain": [
       "['a', 'A', 'b', 'C', 'c', 'd']"
      ]
     },
     "execution_count": 60,
     "metadata": {},
     "output_type": "execute_result"
    }
   ],
   "source": [
    "#顺序不变\n",
    "string = ['b', 'C', 'd', 'c', 'a', 'A']\n",
    "string.sort(key=str.upper) \n",
    "string"
   ]
  },
  {
   "cell_type": "markdown",
   "metadata": {},
   "source": [
    "#### list排序"
   ]
  },
  {
   "cell_type": "code",
   "execution_count": 75,
   "metadata": {
    "scrolled": true
   },
   "outputs": [
    {
     "data": {
      "text/plain": [
       "[1, 2, 3, 4, 5]"
      ]
     },
     "execution_count": 75,
     "metadata": {},
     "output_type": "execute_result"
    }
   ],
   "source": [
    "# list.sort() 原列表排序，无返回值\n",
    "a = [5, 4, 3, 2, 1]\n",
    "a.sort()\n",
    "a"
   ]
  },
  {
   "cell_type": "code",
   "execution_count": 76,
   "metadata": {},
   "outputs": [
    {
     "data": {
      "text/plain": [
       "[1, 2, 3, 4, 5]"
      ]
     },
     "execution_count": 76,
     "metadata": {},
     "output_type": "execute_result"
    }
   ],
   "source": [
    "# sorted(list) 创建排序新列表，返回新list\n",
    "a = [5, 4, 3, 2, 1]\n",
    "sorted(a) "
   ]
  },
  {
   "cell_type": "code",
   "execution_count": null,
   "metadata": {},
   "outputs": [],
   "source": [
    "# sorted key function\n",
    "sorted(a, key=lambda x:x[0])  # reverse=True\n",
    "# [('a',2),('b',3),('c',1),('d',4)]\n",
    "# [('c',1),('a',2),('b',3),('d',4)]"
   ]
  },
  {
   "cell_type": "markdown",
   "metadata": {},
   "source": [
    "#### 数组去重"
   ]
  },
  {
   "cell_type": "code",
   "execution_count": 1,
   "metadata": {},
   "outputs": [
    {
     "data": {
      "text/plain": [
       "[3, 2, 1, 4, 5]"
      ]
     },
     "execution_count": 1,
     "metadata": {},
     "output_type": "execute_result"
    }
   ],
   "source": [
    "a = [3, 2, 1, 4, 5, 3, 2, 1]\n",
    "b = []\n",
    "for i in a:\n",
    "    if i not in b:\n",
    "        b.append(i)\n",
    "b"
   ]
  },
  {
   "cell_type": "markdown",
   "metadata": {},
   "source": [
    "#### 列表、字典中remove元素"
   ]
  },
  {
   "cell_type": "code",
   "execution_count": 84,
   "metadata": {},
   "outputs": [
    {
     "data": {
      "text/plain": [
       "([1, 3, 4, 5], [1, 3, 4, 5])"
      ]
     },
     "execution_count": 84,
     "metadata": {},
     "output_type": "execute_result"
    }
   ],
   "source": [
    "# remove，复制的列表会影响原列表\n",
    "a = [1, 2, 3, 4, 5]\n",
    "b = a\n",
    "b.remove(2)\n",
    "a, b"
   ]
  },
  {
   "cell_type": "code",
   "execution_count": 78,
   "metadata": {},
   "outputs": [
    {
     "data": {
      "text/plain": [
       "([1, 2, 3, 4, 5], [1, 2, 4, 5])"
      ]
     },
     "execution_count": 78,
     "metadata": {},
     "output_type": "execute_result"
    }
   ],
   "source": [
    "# 创建新列表，append合格元素\n",
    "a = [1, 2, 3, 4, 5]\n",
    "b = []\n",
    "for i in a:\n",
    "    if i != 3:\n",
    "        b.append(i)\n",
    "a, b"
   ]
  },
  {
   "cell_type": "code",
   "execution_count": 127,
   "metadata": {},
   "outputs": [
    {
     "data": {
      "text/plain": [
       "([1, 2, 3, 4, 5], [1, 3, 4, 5])"
      ]
     },
     "execution_count": 127,
     "metadata": {},
     "output_type": "execute_result"
    }
   ],
   "source": [
    "# 使用复制，b不影响a\n",
    "a = [1, 2, 3, 4, 5]\n",
    "b = a.copy()\n",
    "b.pop(1)\n",
    "a, b"
   ]
  },
  {
   "cell_type": "code",
   "execution_count": 79,
   "metadata": {},
   "outputs": [
    {
     "data": {
      "text/plain": [
       "([1, 2, 3, 4, 5], [1, 2, 4, 5])"
      ]
     },
     "execution_count": 79,
     "metadata": {},
     "output_type": "execute_result"
    }
   ],
   "source": [
    "# 使用深复制，b不影响a\n",
    "import copy\n",
    "a = [1, 2, 3, 4, 5]\n",
    "b = copy.deepcopy(a)\n",
    "b.remove(3)\n",
    "a, b"
   ]
  },
  {
   "cell_type": "markdown",
   "metadata": {},
   "source": [
    "#### 判断是否为质数：(质数均为奇数）"
   ]
  },
  {
   "cell_type": "code",
   "execution_count": 63,
   "metadata": {},
   "outputs": [
    {
     "name": "stdout",
     "output_type": "stream",
     "text": [
      "3\n"
     ]
    }
   ],
   "source": [
    "n = 15\n",
    "for i in range(2, int(n**0.5+1)):\n",
    "    if n%i == 0:\n",
    "        print(i)"
   ]
  },
  {
   "cell_type": "markdown",
   "metadata": {},
   "source": [
    "#### 常错-遍历索引超出范围："
   ]
  },
  {
   "cell_type": "code",
   "execution_count": 65,
   "metadata": {
    "scrolled": true
   },
   "outputs": [
    {
     "name": "stdout",
     "output_type": "stream",
     "text": [
      "1 2\n",
      "2 3\n",
      "3 4\n",
      "4 5\n"
     ]
    }
   ],
   "source": [
    "# index out of range\n",
    "a = [1, 2, 3, 4, 5]\n",
    "for index, i in enumerate(a[:-1]):\n",
    "    print(i, a[index+1])"
   ]
  },
  {
   "cell_type": "markdown",
   "metadata": {},
   "source": [
    "#### 常错-整除结果为小数"
   ]
  },
  {
   "cell_type": "code",
   "execution_count": 83,
   "metadata": {},
   "outputs": [
    {
     "data": {
      "text/plain": [
       "(2.0, 2)"
      ]
     },
     "execution_count": 83,
     "metadata": {},
     "output_type": "execute_result"
    }
   ],
   "source": [
    "#4/2 = 2.0\n",
    "4/2, int(4/2)"
   ]
  },
  {
   "cell_type": "markdown",
   "metadata": {},
   "source": [
    "#### 常错-int不能用''.join()"
   ]
  },
  {
   "cell_type": "code",
   "execution_count": 108,
   "metadata": {},
   "outputs": [
    {
     "data": {
      "text/plain": [
       "'1 2'"
      ]
     },
     "execution_count": 108,
     "metadata": {},
     "output_type": "execute_result"
    }
   ],
   "source": [
    "a = ['1', '2']\n",
    "' '.join(a)"
   ]
  },
  {
   "cell_type": "markdown",
   "metadata": {},
   "source": [
    "#### 常错-str与int之间转换"
   ]
  },
  {
   "cell_type": "markdown",
   "metadata": {},
   "source": [
    "#### 杨辉三角形"
   ]
  },
  {
   "cell_type": "code",
   "execution_count": 109,
   "metadata": {},
   "outputs": [],
   "source": [
    "memo = {}\n",
    "def tri(n, memo):\n",
    "    for j in range(1, n+1):\n",
    "        if j == 1:\n",
    "            memo[j] = [1]\n",
    "        elif j == 2:\n",
    "            memo[j] = [1, 1, 1]\n",
    "        elif j == 3:\n",
    "            memo[j] = [1, 2, 3, 2, 1]\n",
    "        else:\n",
    "            res = [1 for x in range(2*j-1)]\n",
    "            res[1] = memo[j-1][1]+1\n",
    "            res[-2] = res[1]\n",
    "            for index, i in enumerate(res[2:-2]):\n",
    "                res[index+2] = memo[j-1][index] + memo[j-1][index+1] + memo[j-1][index+2]\n",
    "            memo[j] = res\n",
    "    return memo[n]"
   ]
  },
  {
   "cell_type": "code",
   "execution_count": 110,
   "metadata": {},
   "outputs": [
    {
     "data": {
      "text/plain": [
       "[1, 4, 10, 16, 19, 16, 10, 4, 1]"
      ]
     },
     "execution_count": 110,
     "metadata": {},
     "output_type": "execute_result"
    }
   ],
   "source": [
    "tri(5, memo)"
   ]
  },
  {
   "cell_type": "code",
   "execution_count": 15,
   "metadata": {},
   "outputs": [
    {
     "data": {
      "text/plain": [
       "[('b', 3), ('a', 2), ('d', 4), ('c', 1)]"
      ]
     },
     "execution_count": 15,
     "metadata": {},
     "output_type": "execute_result"
    }
   ],
   "source": [
    "a = [('b',3), ('a',2), ('d',4), ('c',1)]\n",
    "sorted(a, key=lambda x:x[0])  \n",
    "a"
   ]
  },
  {
   "cell_type": "code",
   "execution_count": null,
   "metadata": {},
   "outputs": [],
   "source": []
  },
  {
   "cell_type": "code",
   "execution_count": null,
   "metadata": {},
   "outputs": [],
   "source": []
  },
  {
   "cell_type": "code",
   "execution_count": null,
   "metadata": {},
   "outputs": [],
   "source": []
  }
 ],
 "metadata": {
  "kernelspec": {
   "display_name": "Python 3",
   "language": "python",
   "name": "python3"
  },
  "language_info": {
   "codemirror_mode": {
    "name": "ipython",
    "version": 3
   },
   "file_extension": ".py",
   "mimetype": "text/x-python",
   "name": "python",
   "nbconvert_exporter": "python",
   "pygments_lexer": "ipython3",
   "version": "3.7.4"
  }
 },
 "nbformat": 4,
 "nbformat_minor": 2
}
