{
 "cells": [
  {
   "cell_type": "markdown",
   "metadata": {},
   "source": [
    "#### HJ7 取近似值"
   ]
  },
  {
   "cell_type": "markdown",
   "metadata": {},
   "source": [
    "写出一个程序，接受一个正浮点数值，输出该数值的近似整数值。如果小数点后数值大于等于5,向上取整；小于5，则向下取整。"
   ]
  },
  {
   "cell_type": "code",
   "execution_count": 7,
   "metadata": {},
   "outputs": [
    {
     "name": "stdout",
     "output_type": "stream",
     "text": [
      "5.5\n",
      "6\n"
     ]
    }
   ],
   "source": [
    "a = float(input())\n",
    "b = int(a)\n",
    "if a - b >= 0.5:\n",
    "    print(b+1)\n",
    "else:\n",
    "    print(b)"
   ]
  },
  {
   "cell_type": "markdown",
   "metadata": {},
   "source": [
    "#### HJ15 求int型数据在内存中存储时1的个数"
   ]
  },
  {
   "cell_type": "markdown",
   "metadata": {},
   "source": [
    "输入一个int型的正整数，计算出该int型数据在内存中存储时1的个数。"
   ]
  },
  {
   "cell_type": "code",
   "execution_count": 31,
   "metadata": {},
   "outputs": [
    {
     "name": "stdout",
     "output_type": "stream",
     "text": [
      "12\n",
      "2\n"
     ]
    }
   ],
   "source": [
    "a = int(input())\n",
    "b = 1\n",
    "while a > 2:\n",
    "    if a % 2 == 1:\n",
    "        b += 1\n",
    "        a = a // 2\n",
    "    else:\n",
    "        a = a // 2\n",
    "print(b)"
   ]
  },
  {
   "cell_type": "code",
   "execution_count": 40,
   "metadata": {},
   "outputs": [
    {
     "name": "stdout",
     "output_type": "stream",
     "text": [
      "15\n",
      "4\n"
     ]
    }
   ],
   "source": [
    "print(bin(int(input())).count('1'))"
   ]
  },
  {
   "cell_type": "code",
   "execution_count": 15,
   "metadata": {},
   "outputs": [
    {
     "data": {
      "text/plain": [
       "1"
      ]
     },
     "execution_count": 15,
     "metadata": {},
     "output_type": "execute_result"
    }
   ],
   "source": [
    "5 % 2"
   ]
  },
  {
   "cell_type": "markdown",
   "metadata": {},
   "source": [
    "#### HJ106 字符逆序"
   ]
  },
  {
   "cell_type": "markdown",
   "metadata": {},
   "source": [
    "将一个字符串str的内容颠倒过来，并输出。str的长度不超过100个字符。"
   ]
  },
  {
   "cell_type": "code",
   "execution_count": 49,
   "metadata": {},
   "outputs": [
    {
     "name": "stdout",
     "output_type": "stream",
     "text": [
      "abcde\n"
     ]
    },
    {
     "data": {
      "text/plain": [
       "'edcba'"
      ]
     },
     "execution_count": 49,
     "metadata": {},
     "output_type": "execute_result"
    }
   ],
   "source": [
    "a = input()\n",
    "b = list(a)\n",
    "b.reverse()\n",
    "c = ''.join(b)\n",
    "c"
   ]
  },
  {
   "cell_type": "code",
   "execution_count": 50,
   "metadata": {},
   "outputs": [
    {
     "name": "stdout",
     "output_type": "stream",
     "text": [
      "abcde\n",
      "edcba\n"
     ]
    }
   ],
   "source": [
    "a = list(input())\n",
    "a.reverse()\n",
    "print(''.join(a))"
   ]
  },
  {
   "cell_type": "markdown",
   "metadata": {},
   "source": [
    "#### HJ105 记负均正II"
   ]
  },
  {
   "cell_type": "markdown",
   "metadata": {},
   "source": [
    "从输入任意个整型数，统计其中的负数个数并求所有非负数的平均值，结果保留一位小数，如果没有非负数，则平均值为0\n",
    "本题有多组输入数据，输入到文件末尾，请使用while(cin>>)读入\n",
    "数据范围小于1e6"
   ]
  },
  {
   "cell_type": "code",
   "execution_count": 234,
   "metadata": {},
   "outputs": [
    {
     "name": "stdout",
     "output_type": "stream",
     "text": [
      "23\n",
      "423\n",
      "42\n",
      "34\n",
      "2\n",
      "\n",
      "0\n",
      "104.8\n"
     ]
    }
   ],
   "source": [
    "neg = []\n",
    "pos = []\n",
    "while True:\n",
    "    try:\n",
    "        a = int(input())\n",
    "        if a < 0:\n",
    "            neg.append(a)\n",
    "        else:\n",
    "            pos.append(a)\n",
    "    except:\n",
    "        break\n",
    "sum = 0\n",
    "ave = 0.0\n",
    "for i in pos:\n",
    "    sum = sum + i\n",
    "    if len(pos) > 0:\n",
    "        ave = sum/len(pos)\n",
    "print(len(neg))\n",
    "print(round(ave,1))"
   ]
  },
  {
   "cell_type": "markdown",
   "metadata": {},
   "source": [
    "#### 求n的阶乘 - 递归"
   ]
  },
  {
   "cell_type": "code",
   "execution_count": 68,
   "metadata": {},
   "outputs": [],
   "source": [
    "def fact(n):\n",
    "    if n != 1:\n",
    "        return n * fact(n-1)\n",
    "    else:\n",
    "        return 1"
   ]
  },
  {
   "cell_type": "code",
   "execution_count": 980,
   "metadata": {},
   "outputs": [
    {
     "data": {
      "text/plain": [
       "93326215443944152681699238856266700490715968264381621468592963895217599993229915608941463976156518286253697920827223758251185210916864000000000000000000000000"
      ]
     },
     "execution_count": 980,
     "metadata": {},
     "output_type": "execute_result"
    }
   ],
   "source": [
    "fact(100)"
   ]
  },
  {
   "cell_type": "markdown",
   "metadata": {},
   "source": [
    "#### 斐波那契数列 - 递归"
   ]
  },
  {
   "cell_type": "code",
   "execution_count": 1245,
   "metadata": {},
   "outputs": [],
   "source": [
    "# 1 1 2 3 5 8 13 21 34\n",
    "def fib(n):\n",
    "    if n < 3:\n",
    "        return 1\n",
    "    else:\n",
    "        return fib(n-1) + fib(n-2)"
   ]
  },
  {
   "cell_type": "code",
   "execution_count": 1252,
   "metadata": {},
   "outputs": [
    {
     "data": {
      "text/plain": [
       "34"
      ]
     },
     "execution_count": 1252,
     "metadata": {},
     "output_type": "execute_result"
    }
   ],
   "source": [
    "fib(9)"
   ]
  },
  {
   "cell_type": "markdown",
   "metadata": {},
   "source": [
    "#### Class Example"
   ]
  },
  {
   "cell_type": "code",
   "execution_count": 99,
   "metadata": {},
   "outputs": [],
   "source": [
    "class box:\n",
    "    def __init__(self, name, value):\n",
    "        self.name = name\n",
    "        self.value = value\n",
    "    def self_introduce(self):\n",
    "        print('My name is', self.name)\n",
    "    def get_value(self):\n",
    "        print('Value is', self.value)"
   ]
  },
  {
   "cell_type": "code",
   "execution_count": 100,
   "metadata": {},
   "outputs": [],
   "source": [
    "a = box('Bob', 15)\n",
    "b = box('Alice', 43)"
   ]
  },
  {
   "cell_type": "code",
   "execution_count": 101,
   "metadata": {},
   "outputs": [
    {
     "name": "stdout",
     "output_type": "stream",
     "text": [
      "Value is 15\n"
     ]
    }
   ],
   "source": [
    "a.get_value()"
   ]
  },
  {
   "cell_type": "code",
   "execution_count": 103,
   "metadata": {},
   "outputs": [
    {
     "name": "stdout",
     "output_type": "stream",
     "text": [
      "My name is Alice\n"
     ]
    }
   ],
   "source": [
    "b.self_introduce()"
   ]
  },
  {
   "cell_type": "markdown",
   "metadata": {},
   "source": [
    "#### Binary Search"
   ]
  },
  {
   "cell_type": "code",
   "execution_count": 104,
   "metadata": {},
   "outputs": [],
   "source": [
    "arr = [-3, 4, 7, 8, 9, 11, 13]"
   ]
  },
  {
   "cell_type": "code",
   "execution_count": 126,
   "metadata": {},
   "outputs": [],
   "source": [
    "def BS(arr, target):\n",
    "    left =0\n",
    "    right = len(arr) - 1\n",
    "    while right > left:\n",
    "        mid = round((right + left) / 2)\n",
    "        if arr[mid] == target:\n",
    "            return mid\n",
    "        elif arr[mid] > target:\n",
    "            right = mid - 1\n",
    "        else:\n",
    "            left = mid + 1\n",
    "    return -1"
   ]
  },
  {
   "cell_type": "code",
   "execution_count": 127,
   "metadata": {},
   "outputs": [
    {
     "data": {
      "text/plain": [
       "-1"
      ]
     },
     "execution_count": 127,
     "metadata": {},
     "output_type": "execute_result"
    }
   ],
   "source": [
    "BS(arr, 6)"
   ]
  },
  {
   "cell_type": "markdown",
   "metadata": {},
   "source": [
    "#### Quick Sort"
   ]
  },
  {
   "cell_type": "code",
   "execution_count": 128,
   "metadata": {},
   "outputs": [],
   "source": [
    "def quicksort(arr):\n",
    "    qs(arr, 0, len(arr) - 1)\n",
    "\n",
    "def qs(arr, l, r):\n",
    "    if l >= r:\n",
    "        return\n",
    "    p = partition(arr, l, r)\n",
    "\n",
    "    qs(arr, l, p - 1)\n",
    "    qs(arr, p + 1, r)\n",
    "\n",
    "def partition(arr, l, r):\n",
    "    pivot = arr[r]\n",
    "    i = l - 1\n",
    "    for j in range(l, r):\n",
    "        if arr[j] < pivot:\n",
    "            i += 1\n",
    "            arr[i], arr[j] = arr[j], arr[i]\n",
    "    arr[i + 1], arr[r] = arr[r], arr[i + 1]\n",
    "    return i + 1"
   ]
  },
  {
   "cell_type": "code",
   "execution_count": 131,
   "metadata": {},
   "outputs": [
    {
     "data": {
      "text/plain": [
       "[-2, -1, 0, 1, 2, 3, 4]"
      ]
     },
     "execution_count": 131,
     "metadata": {},
     "output_type": "execute_result"
    }
   ],
   "source": [
    "a = [3, -2, -1, 0, 2, 4, 1]\n",
    "quicksort(a)\n",
    "a"
   ]
  },
  {
   "cell_type": "code",
   "execution_count": 134,
   "metadata": {},
   "outputs": [],
   "source": [
    "assert a == [-2, -1, 0, 1, 2, 3, 4]"
   ]
  },
  {
   "cell_type": "markdown",
   "metadata": {},
   "source": [
    "#### HJ23 删除字符串中出现次数最少的字符"
   ]
  },
  {
   "cell_type": "markdown",
   "metadata": {},
   "source": [
    "实现删除字符串中出现次数最少的字符，若多个字符出现次数一样，则都删除。输出删除这些单词后的字符串，字符串中其它字符保持原来的顺序。\n",
    "注意每个输入文件有多组输入，即多个字符串用回车隔开"
   ]
  },
  {
   "cell_type": "code",
   "execution_count": 237,
   "metadata": {},
   "outputs": [
    {
     "name": "stdout",
     "output_type": "stream",
     "text": [
      "addswff\n",
      "ddff\n",
      "\n"
     ]
    }
   ],
   "source": [
    "def remove_least(in_str):\n",
    "    begin = in_str\n",
    "    a = list(in_str)\n",
    "    b = {}\n",
    "    for index, i in enumerate(a):\n",
    "        if i in b:\n",
    "            b[i][0] += 1\n",
    "            b[i][1].append(index)\n",
    "        else:\n",
    "            b[i] = []\n",
    "            b[i].append(1)\n",
    "            b[i].append([index])\n",
    "    out = []\n",
    "    ans = b[list(b)[0]][0]\n",
    "    out.append(list(b)[0])\n",
    "    for j in b:\n",
    "        if b[j][0] == ans:\n",
    "            out.append(j)\n",
    "        if b[j][0] < ans:\n",
    "            ans = b[j][0]\n",
    "            out.clear()\n",
    "            out.append(j)\n",
    "    for m in out:\n",
    "        begin = begin.replace(m, '')\n",
    "    print(begin)\n",
    "while True:\n",
    "    try:\n",
    "        input_str = input()\n",
    "        remove_least(input_str)\n",
    "    except:\n",
    "        break"
   ]
  },
  {
   "cell_type": "markdown",
   "metadata": {},
   "source": [
    "#### HJ14 字符串排序"
   ]
  },
  {
   "cell_type": "markdown",
   "metadata": {},
   "source": [
    "给定n个字符串，请对n个字符串按照字典序排列。\n",
    "输入第一行为一个正整数n(1≤n≤1000),下面n行为n个字符串(字符串长度≤100),字符串中只含有大小写字母。\n",
    "数据输出n行，输出结果为按照字典序排列的字符串。"
   ]
  },
  {
   "cell_type": "code",
   "execution_count": 241,
   "metadata": {},
   "outputs": [
    {
     "name": "stdout",
     "output_type": "stream",
     "text": [
      "fsd3\n",
      "sdfgsd\n",
      "rgb\n",
      "\n",
      "\n",
      "rgb\n",
      "sdfgsd\n"
     ]
    }
   ],
   "source": [
    "lst = []\n",
    "while True:\n",
    "    try:\n",
    "        input_str = input()\n",
    "        lst.append(input_str)\n",
    "        if len(input_str) == 0:\n",
    "            break\n",
    "    except:\n",
    "        break\n",
    "lst_out = lst[1:]\n",
    "lst_out.sort()\n",
    "for i in lst_out:\n",
    "    print(i)"
   ]
  },
  {
   "cell_type": "markdown",
   "metadata": {},
   "source": [
    "#### HJ12 字符串反转"
   ]
  },
  {
   "cell_type": "markdown",
   "metadata": {},
   "source": [
    "接受一个只包含小写字母的字符串，然后输出该字符串反转后的字符串。（字符串长度不超过1000）"
   ]
  },
  {
   "cell_type": "code",
   "execution_count": 242,
   "metadata": {},
   "outputs": [
    {
     "name": "stdout",
     "output_type": "stream",
     "text": [
      "abcd\n",
      "dcba\n"
     ]
    }
   ],
   "source": [
    "a = list(input())\n",
    "a.reverse()\n",
    "print(''.join(a))"
   ]
  },
  {
   "cell_type": "markdown",
   "metadata": {},
   "source": [
    "#### HJ13 句子逆序"
   ]
  },
  {
   "cell_type": "markdown",
   "metadata": {},
   "source": [
    "将一个英文语句以单词为单位逆序排放。例如“I am a boy”，逆序排放后为“boy a am I”\n",
    "所有单词之间用一个空格隔开，语句中除了英文字母外，不再包含其他字符"
   ]
  },
  {
   "cell_type": "code",
   "execution_count": 243,
   "metadata": {},
   "outputs": [
    {
     "name": "stdout",
     "output_type": "stream",
     "text": [
      "I am a boy\n",
      "boy a am I\n"
     ]
    }
   ],
   "source": [
    "a = input()\n",
    "b = a.split(' ')\n",
    "b.reverse()\n",
    "print(' '.join(b))"
   ]
  },
  {
   "cell_type": "markdown",
   "metadata": {},
   "source": [
    "#### HJ1 字符串最后一个单词的长度"
   ]
  },
  {
   "cell_type": "markdown",
   "metadata": {},
   "source": [
    "计算字符串最后一个单词的长度，单词以空格隔开。\n",
    "输入一行，代表要计算的字符串，非空，长度小于5000。\n",
    "输出一个整数，表示输入字符串最后一个单词的长度。"
   ]
  },
  {
   "cell_type": "code",
   "execution_count": 250,
   "metadata": {},
   "outputs": [
    {
     "name": "stdout",
     "output_type": "stream",
     "text": [
      "hello nowcoder\n",
      "8\n"
     ]
    }
   ],
   "source": [
    "a = input()\n",
    "b = a.split(' ')\n",
    "print(len(b[-1]))"
   ]
  },
  {
   "cell_type": "markdown",
   "metadata": {},
   "source": [
    "#### HJ2 \t计算字符个数"
   ]
  },
  {
   "cell_type": "markdown",
   "metadata": {},
   "source": [
    "写出一个程序，接受一个由字母、数字和空格组成的字符串，和一个字母，然后输出输入字符串中该字母的出现次数。不区分大小写。\n",
    "第一行输入一个由字母和数字以及空格组成的字符串，第二行输入一个字母。\n",
    "输出输入字符串中含有该字符的个数。"
   ]
  },
  {
   "cell_type": "code",
   "execution_count": 260,
   "metadata": {},
   "outputs": [
    {
     "name": "stdout",
     "output_type": "stream",
     "text": [
      "sfwfasfwf2\n",
      "c\n",
      "0\n"
     ]
    }
   ],
   "source": [
    "a = input()\n",
    "b = input()\n",
    "c = {}\n",
    "for i in a.lower():\n",
    "    if i in c:\n",
    "        c[i] += 1\n",
    "    else:\n",
    "        c[i] = 1\n",
    "if b.lower() in c:\n",
    "    print(c[b.lower()])\n",
    "else:\n",
    "    print(0)"
   ]
  },
  {
   "cell_type": "markdown",
   "metadata": {},
   "source": [
    "#### HJ3 \t明明的随机数"
   ]
  },
  {
   "cell_type": "markdown",
   "metadata": {},
   "source": [
    "明明想在学校中请一些同学一起做一项问卷调查，为了实验的客观性，他先用计算机生成了N个1到1000之间的随机整数（N≤1000），对于其中重复的数字，只保留一个，把其余相同的数去掉，不同的数对应着不同的学生的学号。然后再把这些数从小到大排序，按照排好的顺序去找同学做调查。请你协助明明完成“去重”与“排序”的工作(同一个测试用例里可能会有多组数据，希望大家能正确处理)。\n",
    "\n",
    "注：测试用例保证输入参数的正确性，答题者无需验证。测试用例不止一组。\n",
    "\n",
    "当没有新的输入时，说明输入结束。\n",
    "\n",
    "注意：输入可能有多组数据。每组数据都包括多行，第一行先输入随机整数的个数N，接下来的N行再输入相应个数的整数。具体格式请看下面的\"示例\"。\n",
    "返回多行，处理后的结果"
   ]
  },
  {
   "cell_type": "code",
   "execution_count": 281,
   "metadata": {},
   "outputs": [
    {
     "name": "stdout",
     "output_type": "stream",
     "text": [
      "3\n",
      "2\n",
      "4\n",
      "3\n",
      "5\n",
      "6\n",
      "7\n",
      "5\n",
      "4\n",
      "3\n",
      "\n",
      "break\n",
      "2\n",
      "3\n",
      "4\n",
      "5\n",
      "6\n",
      "7\n"
     ]
    }
   ],
   "source": [
    "final_list = []\n",
    "while True:\n",
    "    try:\n",
    "        length = int(input())\n",
    "        index = 0\n",
    "        num_list = []\n",
    "        while index < length:\n",
    "            a = int(input())\n",
    "            if not a in num_list:\n",
    "                num_list.append(a)\n",
    "            index += 1\n",
    "        num_list.sort()\n",
    "        for i in num_list:\n",
    "            final_list.append(i)\n",
    "    except:\n",
    "        break\n",
    "for j in final_list:\n",
    "    print(j)"
   ]
  },
  {
   "cell_type": "code",
   "execution_count": null,
   "metadata": {},
   "outputs": [],
   "source": [
    "while True:\n",
    "    try:\n",
    "        length = int(input())\n",
    "        index = 0\n",
    "        num_list = []\n",
    "        while index < length:\n",
    "            a = int(input())\n",
    "            if not a in num_list:\n",
    "                num_list.append(a)\n",
    "            index += 1\n",
    "        num_list.sort()\n",
    "        for i in num_list:\n",
    "            print(i)\n",
    "    except:\n",
    "        break"
   ]
  },
  {
   "cell_type": "markdown",
   "metadata": {},
   "source": [
    "#### HJ4 字符串分隔"
   ]
  },
  {
   "cell_type": "markdown",
   "metadata": {},
   "source": [
    "连续输入字符串，请按长度为8拆分每个字符串后输出到新的字符串数组；\n",
    "•长度不是8整数倍的字符串请在后面补数字0，空字符串不处理。\n",
    "\n",
    "连续输入字符串(输入多次,每个字符串长度小于100)\n",
    "\n",
    "输出到长度为8的新字符串数组"
   ]
  },
  {
   "cell_type": "code",
   "execution_count": 331,
   "metadata": {},
   "outputs": [
    {
     "name": "stdout",
     "output_type": "stream",
     "text": [
      "34089720934672034860287603\n",
      "34089720\n",
      "93467203\n",
      "48602876\n",
      "03000000\n",
      "\n"
     ]
    }
   ],
   "source": [
    "while True:\n",
    "    try:\n",
    "        a = input()\n",
    "        if len(a) == 0:\n",
    "            break\n",
    "        if len(a) < 8:\n",
    "            print(a + str((8-len(a))*'0'))\n",
    "        elif len(a) == 8:\n",
    "            print(a)\n",
    "        else:\n",
    "            l = 1\n",
    "            r = l + 8\n",
    "            iters = len(a)//8\n",
    "            last = len(a)%8\n",
    "            if last == 0:\n",
    "                for i in range(iters):\n",
    "                    print(a[(l-1): (r-1)])\n",
    "                    l += 8\n",
    "                    r = l + 8\n",
    "            elif last == 1:\n",
    "                for i in range(iters):\n",
    "                    print(a[(l-1): (r-1)])\n",
    "                    l += 8\n",
    "                    r = l + 8\n",
    "                print(a[-1] + (8-last)*'0')\n",
    "            else:\n",
    "                for i in range(iters):\n",
    "                    print(a[(l-1): (r-1)])\n",
    "                    l += 8\n",
    "                    r = l + 8\n",
    "                print(a[-last:] + (8-last)*'0')\n",
    "    except:\n",
    "        break"
   ]
  },
  {
   "cell_type": "code",
   "execution_count": 332,
   "metadata": {},
   "outputs": [
    {
     "name": "stdout",
     "output_type": "stream",
     "text": [
      "abc\n",
      "abc00000\n",
      "123456789\n",
      "12345678\n",
      "90000000\n",
      "184570912860298345\n",
      "18457091\n",
      "28602983\n",
      "45000000\n",
      "\n",
      "00000000\n",
      "\n",
      "00000000\n",
      "\n"
     ]
    }
   ],
   "source": [
    "while True:\n",
    "    try:\n",
    "        a = input()\n",
    "        while len(a) > 8:\n",
    "            print(a[:8])\n",
    "            a = a[8:]\n",
    "        print(a + (8-len(a))*'0')\n",
    "    except:\n",
    "        break"
   ]
  },
  {
   "cell_type": "markdown",
   "metadata": {},
   "source": [
    "#### HJ5 进制转换"
   ]
  },
  {
   "cell_type": "markdown",
   "metadata": {},
   "source": [
    "写出一个程序，接受一个十六进制的数，输出该数值的十进制表示。\n",
    "\n",
    "输入一个十六进制的数值字符串。注意：一个用例会同时有多组输入数据，请参考帖子https://www.nowcoder.com/discuss/276处理多组输入的问题。\n",
    "    \n",
    "输出该数值的十进制字符串。不同组的测试用例用\\n隔开。"
   ]
  },
  {
   "cell_type": "code",
   "execution_count": 335,
   "metadata": {},
   "outputs": [],
   "source": [
    "import sys \n",
    "for line in sys.stdin:\n",
    "    a = line.split()\n",
    "    print(a[0])"
   ]
  },
  {
   "cell_type": "code",
   "execution_count": 337,
   "metadata": {},
   "outputs": [
    {
     "name": "stdout",
     "output_type": "stream",
     "text": [
      "\n"
     ]
    }
   ],
   "source": [
    "while True:\n",
    "    try:\n",
    "        a = input()\n",
    "        if len(a) == 0:\n",
    "            break\n",
    "        print(a)\n",
    "    except:\n",
    "        break"
   ]
  },
  {
   "cell_type": "code",
   "execution_count": 339,
   "metadata": {},
   "outputs": [
    {
     "name": "stdout",
     "output_type": "stream",
     "text": [
      "ABCD\n",
      "205\n",
      "\n"
     ]
    }
   ],
   "source": [
    "dic = {'0': 0, '1': 1, '2': 2, '3': 3, '4': 4, '5': 5, '6': 6, '7': 7,\n",
    "      '8': 8, '9': 9, 'A': 10, 'B': 11, 'C': 12, 'D': 13, 'E': 14, 'F': 15}\n",
    "while True:\n",
    "    try:\n",
    "        a = input()\n",
    "        pin = len(a)-3\n",
    "        sum = 0\n",
    "        for i in (list(a)[2:]):\n",
    "            current = (16**pin)*dic[i]\n",
    "            sum += current\n",
    "            pin -= 1\n",
    "        print(sum)\n",
    "    except:\n",
    "        break"
   ]
  },
  {
   "cell_type": "code",
   "execution_count": 338,
   "metadata": {},
   "outputs": [
    {
     "name": "stdout",
     "output_type": "stream",
     "text": [
      "ABCD\n",
      "43981\n"
     ]
    }
   ],
   "source": [
    "while True:\n",
    "    try:\n",
    "        print(int(input(),16))\n",
    "        if len(a) == 0:\n",
    "            break\n",
    "    except :\n",
    "        break"
   ]
  },
  {
   "cell_type": "markdown",
   "metadata": {},
   "source": [
    "#### HJ6 质数因子"
   ]
  },
  {
   "cell_type": "markdown",
   "metadata": {},
   "source": [
    "功能:输入一个正整数，按照从小到大的顺序输出它的所有质因子（重复的也要列举）（如180的质因子为2 2 3 3 5 ）\n",
    "\n",
    "最后一个数后面也要有空格\n",
    "\n",
    "输入一个long型整数\n",
    "\n",
    "按照从小到大的顺序输出它的所有质数的因子，以空格隔开。最后一个数后面也要有空格。"
   ]
  },
  {
   "cell_type": "code",
   "execution_count": 481,
   "metadata": {},
   "outputs": [
    {
     "name": "stdout",
     "output_type": "stream",
     "text": [
      "4567\n",
      "4567 "
     ]
    }
   ],
   "source": [
    "num = int(input())\n",
    "def prime(num):\n",
    "    self_prime = True\n",
    "    for i in range(2, int(num**0.5+1)):\n",
    "        if num%i == 0:\n",
    "            self_prime = False\n",
    "            print(str(i), end=' ')\n",
    "            num = int(num/i)\n",
    "            prime(num)\n",
    "            break\n",
    "    if self_prime:\n",
    "        print(str(num), end=' ')\n",
    "prime(num)"
   ]
  },
  {
   "cell_type": "markdown",
   "metadata": {},
   "source": [
    "#### HJ8 合并表记录"
   ]
  },
  {
   "cell_type": "markdown",
   "metadata": {},
   "source": [
    "数据表记录包含表索引和数值（int范围的正整数），请对表索引相同的记录进行合并，即将相同索引的数值进行求和运算，输出按照key值升序进行输出。\n",
    "\n",
    "输入描述:\n",
    "先输入键值对的个数\n",
    "然后输入成对的index和value值，以空格隔开\n",
    "\n",
    "输出描述:\n",
    "输出合并后的键值对（多行）"
   ]
  },
  {
   "cell_type": "code",
   "execution_count": 483,
   "metadata": {},
   "outputs": [
    {
     "data": {
      "text/plain": [
       "[[1, 2], [1, 4], [2, 4], [3, 2]]"
      ]
     },
     "execution_count": 483,
     "metadata": {},
     "output_type": "execute_result"
    }
   ],
   "source": [
    "dic = {}\n",
    "num = int(input())\n",
    "for i in range(num):\n",
    "    in_value = input().split(' ')\n",
    "    if in_value[0] in dic:\n",
    "        dic[in_value[0]] += int(in_value[1])\n",
    "    else:\n",
    "        dic[in_value[0]] = int(in_value[1])\n",
    "out = []\n",
    "for i in dic:\n",
    "    out.append([int(i), dic[i]])\n",
    "out.sort()\n",
    "for j in out:\n",
    "    print(f'{j[0]} {j[1]}')"
   ]
  },
  {
   "cell_type": "markdown",
   "metadata": {},
   "source": [
    "#### HJ9 提取不重复的整数"
   ]
  },
  {
   "cell_type": "markdown",
   "metadata": {},
   "source": [
    "题目描述\n",
    "输入一个int型整数，按照从右向左的阅读顺序，返回一个不含重复数字的新的整数。\n",
    "保证输入的整数最后一位不是0。\n",
    "\n",
    "输入描述:\n",
    "输入一个int型整数\n",
    "\n",
    "输出描述:\n",
    "按照从右向左的阅读顺序，返回一个不含重复数字的新的整数"
   ]
  },
  {
   "cell_type": "code",
   "execution_count": 511,
   "metadata": {},
   "outputs": [
    {
     "name": "stdout",
     "output_type": "stream",
     "text": [
      "9876673\n",
      "37689\n"
     ]
    }
   ],
   "source": [
    "num = input()\n",
    "lst = list(num)\n",
    "lst.reverse()\n",
    "out = []\n",
    "for i in lst:\n",
    "    if i not in out:\n",
    "        out.append(str(i))\n",
    "print(''.join(out))"
   ]
  },
  {
   "cell_type": "markdown",
   "metadata": {},
   "source": [
    "#### HJ10 字符个数统计"
   ]
  },
  {
   "cell_type": "markdown",
   "metadata": {},
   "source": [
    "题目描述\n",
    "编写一个函数，计算字符串中含有的不同字符的个数。字符在ACSII码范围内(0~127)，换行表示结束符，不算在字符里。不在范围内的不作统计。多个相同的字符只计算一次\n",
    "例如，对于字符串abaca而言，有a、b、c三种不同的字符，因此输出3。\n",
    "\n",
    "输入描述:\n",
    "输入一行没有空格的字符串。\n",
    "\n",
    "输出描述:\n",
    "输出范围在(0~127)字符的个数。"
   ]
  },
  {
   "cell_type": "code",
   "execution_count": 532,
   "metadata": {},
   "outputs": [
    {
     "name": "stdout",
     "output_type": "stream",
     "text": [
      "abc\n",
      "['a', 'b', 'c']\n",
      "3\n"
     ]
    }
   ],
   "source": [
    "key_dict = {key: chr(key) for key in range(0,128)}\n",
    "a = list(input())\n",
    "count = 0\n",
    "print(b)\n",
    "for i in key_dict:\n",
    "    if key_dict[i] in a:\n",
    "        count += 1\n",
    "print(count)"
   ]
  },
  {
   "cell_type": "code",
   "execution_count": 533,
   "metadata": {},
   "outputs": [
    {
     "name": "stdout",
     "output_type": "stream",
     "text": [
      "abc\n",
      "3\n",
      "\n",
      "0\n",
      "\n",
      "0\n",
      "\n",
      "0\n",
      "\n"
     ]
    }
   ],
   "source": [
    "while True:\n",
    "    try:\n",
    "        print(len(set(input())))\n",
    "    except:\n",
    "        break"
   ]
  },
  {
   "cell_type": "code",
   "execution_count": 543,
   "metadata": {},
   "outputs": [
    {
     "data": {
      "text/plain": [
       "{1, 3, 4, 5, 23}"
      ]
     },
     "execution_count": 543,
     "metadata": {},
     "output_type": "execute_result"
    }
   ],
   "source": [
    "a = {1, 23, 4, 5, 3, 4}\n",
    "a"
   ]
  },
  {
   "cell_type": "markdown",
   "metadata": {},
   "source": [
    "#### HJ11 数字颠倒"
   ]
  },
  {
   "cell_type": "markdown",
   "metadata": {},
   "source": [
    "题目描述\n",
    "输入一个整数，将这个整数以字符串的形式逆序输出\n",
    "程序不考虑负数的情况，若数字含有0，则逆序形式也含有0，如输入为100，则输出为001\n",
    "\n",
    "输入描述:\n",
    "输入一个int整数\n",
    "\n",
    "输出描述:\n",
    "将这个整数以字符串的形式逆序输出"
   ]
  },
  {
   "cell_type": "code",
   "execution_count": 544,
   "metadata": {},
   "outputs": [
    {
     "name": "stdout",
     "output_type": "stream",
     "text": [
      "1434\n",
      "4341\n"
     ]
    }
   ],
   "source": [
    "num = input()\n",
    "lst = list(num)\n",
    "lst.reverse()\n",
    "print(''.join(lst))"
   ]
  },
  {
   "cell_type": "code",
   "execution_count": 550,
   "metadata": {},
   "outputs": [
    {
     "name": "stdout",
     "output_type": "stream",
     "text": [
      "2345626\n",
      "6265432\n"
     ]
    }
   ],
   "source": [
    "a=input()\n",
    "print(a[::-1])"
   ]
  },
  {
   "cell_type": "markdown",
   "metadata": {},
   "source": [
    "#### HJ15 购物单"
   ]
  },
  {
   "cell_type": "code",
   "execution_count": null,
   "metadata": {},
   "outputs": [],
   "source": []
  },
  {
   "cell_type": "markdown",
   "metadata": {},
   "source": [
    "#### HJ17 坐标移动"
   ]
  },
  {
   "cell_type": "markdown",
   "metadata": {},
   "source": [
    "题目描述\n",
    "开发一个坐标计算工具， A表示向左移动，D表示向右移动，W表示向上移动，S表示向下移动。从（0,0）点开始移动，从输入字符串里面读取一些坐标，并将最终输入结果输出到输出文件里面。\n",
    "\n",
    "输入：\n",
    "\n",
    "合法坐标为A(或者D或者W或者S) + 数字（两位以内）\n",
    "\n",
    "坐标之间以;分隔。\n",
    "\n",
    "非法坐标点需要进行丢弃。如AA10;  A1A;  $%$;  YAD; 等。\n",
    "\n",
    "下面是一个简单的例子 如：\n",
    "\n",
    "A10;S20;W10;D30;X;A1A;B10A11;;A10;\n",
    "\n",
    "处理过程：\n",
    "\n",
    "起点（0,0）\n",
    "\n",
    "+   A10   =  （-10,0）\n",
    "\n",
    "+   S20   =  (-10,-20)\n",
    "\n",
    "+   W10  =  (-10,-10)\n",
    "\n",
    "+   D30  =  (20,-10)\n",
    "\n",
    "+   x    =  无效\n",
    "\n",
    "+   A1A   =  无效\n",
    "\n",
    "+   B10A11   =  无效\n",
    "\n",
    "+  一个空 不影响\n",
    "\n",
    "+   A10  =  (10,-10)\n",
    "\n",
    "结果 （10， -10）\n",
    "\n",
    "注意请处理多组输入输出\n",
    "\n",
    "输入描述:\n",
    "一行字符串\n",
    "\n",
    "输出描述:\n",
    "最终坐标，以逗号分隔"
   ]
  },
  {
   "cell_type": "code",
   "execution_count": 553,
   "metadata": {},
   "outputs": [
    {
     "name": "stdout",
     "output_type": "stream",
     "text": [
      "A10;S20;W10;D30;X;A1A;B10A11;;A10;\n"
     ]
    },
    {
     "data": {
      "text/plain": [
       "['A10', 'S20', 'W10', 'D30', 'X', 'A1A', 'B10A11', '', 'A10', '']"
      ]
     },
     "execution_count": 553,
     "metadata": {},
     "output_type": "execute_result"
    }
   ],
   "source": [
    "a = input()\n",
    "lst = a.split(';')\n",
    "target = ['A', 'S', 'W', 'D']\n",
    "keep = []\n",
    "for i in lst:\n",
    "    if len(i) == 2:\n",
    "        if i[0] in target:\n",
    "            if i[1].isdigit():\n",
    "                keep.append(i)\n",
    "    if len(i) == 3:\n",
    "        if i[0] in target:\n",
    "            if i[1].isdigit():\n",
    "                if i[2].isdigit():\n",
    "                    keep.append(i)\n",
    "direction = {}\n",
    "for j in keep:\n",
    "    if j[0] in direction:\n",
    "        direction[j[0]] += int(j[1:])\n",
    "    else:\n",
    "        direction[j[0]] = int(j[1:])\n",
    "horizontal = direction['D']-direction['A']\n",
    "vertical = direction['W']-direction['S']\n",
    "print(str(horizontal)+','+str(vertical))"
   ]
  },
  {
   "cell_type": "markdown",
   "metadata": {},
   "source": [
    "#### HJ18 识别有效的IP地址和掩码并进行分类统计"
   ]
  },
  {
   "cell_type": "markdown",
   "metadata": {},
   "source": [
    "题目描述\n",
    "请解析IP地址和对应的掩码，进行分类识别。要求按照A/B/C/D/E类地址归类，不合法的地址和掩码单独归类。\n",
    "\n",
    "所有的IP地址划分为 A,B,C,D,E五类\n",
    "\n",
    "A类地址1.0.0.0~126.255.255.255;\n",
    "\n",
    "B类地址128.0.0.0~191.255.255.255;\n",
    "\n",
    "C类地址192.0.0.0~223.255.255.255;\n",
    "\n",
    "D类地址224.0.0.0~239.255.255.255；\n",
    "\n",
    "E类地址240.0.0.0~255.255.255.255\n",
    "\n",
    "\n",
    "私网IP范围是：\n",
    "\n",
    "10.0.0.0～10.255.255.255\n",
    "\n",
    "172.16.0.0～172.31.255.255\n",
    "\n",
    "192.168.0.0～192.168.255.255\n",
    "\n",
    "\n",
    "子网掩码为二进制下前面是连续的1，然后全是0。（例如：255.255.255.32就是一个非法的掩码）\n",
    "注意二进制下全是1或者全是0均为非法\n",
    "\n",
    "注意：\n",
    "1. 类似于【0.*.*.*】和【127.*.*.*】的IP地址不属于上述输入的任意一类，也不属于不合法ip地址，计数时可以忽略\n",
    "2. 私有IP地址和A,B,C,D,E类地址是不冲突的\n",
    "\n",
    "输入描述:\n",
    "多行字符串。每行一个IP地址和掩码，用~隔开。\n",
    "\n",
    "输出描述:\n",
    "统计A、B、C、D、E、错误IP地址或错误掩码、私有IP的个数，之间以空格隔开。"
   ]
  },
  {
   "cell_type": "code",
   "execution_count": 564,
   "metadata": {},
   "outputs": [
    {
     "data": {
      "text/plain": [
       "192"
      ]
     },
     "execution_count": 564,
     "metadata": {},
     "output_type": "execute_result"
    }
   ],
   "source": [
    "ip = '192.168.0.2~255.255.255.0'.split('~')\n",
    "ip_lst = [[], []]\n",
    "ip_lst[0] = ip[0].split('.')\n",
    "ip_lst[1] = ip[1].split('.')\n",
    "int(ip_lst[0][0])"
   ]
  },
  {
   "cell_type": "code",
   "execution_count": null,
   "metadata": {},
   "outputs": [],
   "source": [
    "# ip = '192.168.0.2~255.255.255.0'\n",
    "# ['192.168.0.2', '255.255.255.0']\n",
    "# [['192', '168', '0', '2'], ['255', '255', '255', '0']]\n",
    "# [[192, 168, 0, 2], [255, 255, 255, 0]]\n",
    "\n",
    "valid_code = [['255', '255', '255', '0'], ['255', '255', '0', '0'], \n",
    "              ['255', '0', '0', '0']]\n",
    "countA = 0\n",
    "countB = 0\n",
    "countC = 0\n",
    "countD = 0\n",
    "countE = 0\n",
    "invalid_ip = 0\n",
    "private = 0\n",
    "while True:\n",
    "    try:\n",
    "        # input\n",
    "        ip = input().split('~')\n",
    "        is_valid = True\n",
    "        ip_lst = [[], []]\n",
    "        ip_lst[0] = ip[0].split('.')\n",
    "        ip_lst[1] = ip[1].split('.')\n",
    "    \n",
    "        # check if valid ip\n",
    "        if not ip_lst[0][0].isdigit():\n",
    "            invalid_ip += 1\n",
    "            is_valid = False\n",
    "        elif not (1 <= int(ip_lst[0][0]) <= 255):\n",
    "            invalid_ip += 1\n",
    "            is_valid = False\n",
    "        elif not ip_lst[0][1].isdigit():\n",
    "            invalid_ip += 1\n",
    "            is_valid = False\n",
    "        elif not (0 <= int(ip_lst[0][1]) <= 255):\n",
    "            invalid_ip += 1\n",
    "            is_valid = False\n",
    "        elif not ip_lst[0][2].isdigit():\n",
    "            invalid_ip += 1\n",
    "            is_valid = False\n",
    "        elif not (0 <= int(ip_lst[0][2]) <= 255):\n",
    "            invalid_ip += 1\n",
    "            is_valid = False\n",
    "        elif not ip_lst[0][3].isdigit():\n",
    "            invalid_ip += 1\n",
    "            is_valid = False\n",
    "        elif not (0 <= int(ip_lst[0][3]) <= 255):\n",
    "            invalid_ip += 1\n",
    "            is_valid = False\n",
    "#                 for m in ip_lst[0][1:]:\n",
    "#                     if m.isdigit():\n",
    "#                         pass\n",
    "#                     else:\n",
    "#                         invalid_ip += 1\n",
    "#                         is_valid = False\n",
    "#                         print('invalid ip')\n",
    "#                         if 0 <= int(m) <= 255:\n",
    "#                             print('valid ip')\n",
    "#                             pass\n",
    "#                         else:\n",
    "#                             invalid_ip += 1\n",
    "#                             is_valid = False\n",
    "#                             print('invalid ip')\n",
    "#                     else:\n",
    "#                         invalid_ip += 1\n",
    "#                         is_valid = False\n",
    "#                         print('invalid ip')\n",
    "#                         print(ip)\n",
    "#             else:\n",
    "#                 invalid_ip += 1\n",
    "#                 is_valid = False\n",
    "#                 print('invalid ip')\n",
    "#                 print(ip)\n",
    "\n",
    "        # check if valid code\n",
    "        if ip_lst[1] in valid_code:\n",
    "            pass\n",
    "        else:\n",
    "            invalid_ip += 1\n",
    "            is_valid = False\n",
    "#             print('invalid code')\n",
    "\n",
    "        # count valid ip to type\n",
    "        if is_valid:\n",
    "#             print(ip_lst[0][0])\n",
    "            if int(ip_lst[0][0]) == 1:\n",
    "                countA += 1\n",
    "            elif int(ip_lst[0][0]) == 128:\n",
    "                countB += 1\n",
    "            elif int(ip_lst[0][0]) == 192:\n",
    "                countC += 1\n",
    "                if int(ip_lst[0][1]) == 168:\n",
    "                    private += 1\n",
    "            elif int(ip_lst[0][0]) == 224:\n",
    "                countD += 1\n",
    "            elif int(ip_lst[0][0]) == 240:\n",
    "                countE += 1\n",
    "        # count private ip\n",
    "            elif int(ip_lst[0][0]) == 10:\n",
    "                private += 1\n",
    "            elif int(ip_lst[0][0]) == 172:\n",
    "                if 16 <= int(ip_lst[0][1]) <= 32:\n",
    "                    private += 1\n",
    "#             elif int(ip_lst[0][0]) == 192:\n",
    "#                 if int(ip_lst[0][1]) == 168:\n",
    "#                     private += 1\n",
    "    except:\n",
    "        break\n",
    "print(f'{countA} {countB} {countC} {countD} {countE} {invalid_ip} {private}')\n"
   ]
  },
  {
   "cell_type": "code",
   "execution_count": null,
   "metadata": {},
   "outputs": [],
   "source": [
    "valid_code = [['255', '255', '255', '0'], ['255', '255', '0', '0'], \n",
    "              ['255', '0', '0', '0']]\n",
    "countA = 0\n",
    "countB = 0\n",
    "countC = 0\n",
    "countD = 0\n",
    "countE = 0\n",
    "invalid_ip = 0\n",
    "private = 0\n",
    "while True:\n",
    "    try:\n",
    "        # input\n",
    "        ip = input().split('~')\n",
    "        is_valid = True\n",
    "        ip_lst = [[], []]\n",
    "        ip_lst[0] = ip[0].split('.')\n",
    "        ip_lst[1] = ip[1].split('.')\n",
    "        # check if valid ip\n",
    "        if not ip_lst[0][0].isdigit():\n",
    "            invalid_ip += 1\n",
    "            is_valid = False\n",
    "        elif not (1 <= int(ip_lst[0][0]) <= 255):\n",
    "            invalid_ip += 1\n",
    "            is_valid = False\n",
    "        elif not ip_lst[0][1].isdigit():\n",
    "            invalid_ip += 1\n",
    "            is_valid = False\n",
    "        elif not (0 <= int(ip_lst[0][1]) <= 255):\n",
    "            invalid_ip += 1\n",
    "            is_valid = False\n",
    "        elif not ip_lst[0][2].isdigit():\n",
    "            invalid_ip += 1\n",
    "            is_valid = False\n",
    "        elif not (0 <= int(ip_lst[0][2]) <= 255):\n",
    "            invalid_ip += 1\n",
    "            is_valid = False\n",
    "        elif not ip_lst[0][3].isdigit():\n",
    "            invalid_ip += 1\n",
    "            is_valid = False\n",
    "        elif not (0 <= int(ip_lst[0][3]) <= 255):\n",
    "            invalid_ip += 1\n",
    "            is_valid = False\n",
    "\n",
    "        # check if valid code\n",
    "        if ip_lst[1] in valid_code:\n",
    "            pass\n",
    "        else:\n",
    "            invalid_ip += 1\n",
    "            is_valid = False\n",
    "\n",
    "        # count valid ip to type\n",
    "        if is_valid:\n",
    "            if int(ip_lst[0][0]) == 1:\n",
    "                countA += 1\n",
    "            elif int(ip_lst[0][0]) == 128:\n",
    "                countB += 1\n",
    "            elif int(ip_lst[0][0]) == 192:\n",
    "                countC += 1\n",
    "                if int(ip_lst[0][1]) == 168:\n",
    "                    private += 1\n",
    "            elif int(ip_lst[0][0]) == 224:\n",
    "                countD += 1\n",
    "            elif int(ip_lst[0][0]) == 240:\n",
    "                countE += 1\n",
    "        # count private ip\n",
    "            elif int(ip_lst[0][0]) == 10:\n",
    "                private += 1\n",
    "            elif int(ip_lst[0][0]) == 172:\n",
    "                if 16 <= int(ip_lst[0][1]) <= 32:\n",
    "                    private += 1\n",
    "\n",
    "    except:\n",
    "        break\n",
    "print(f'{countA} {countB} {countC} {countD} {countE} {invalid_ip} {private}')\n"
   ]
  },
  {
   "cell_type": "code",
   "execution_count": null,
   "metadata": {},
   "outputs": [],
   "source": []
  },
  {
   "cell_type": "markdown",
   "metadata": {},
   "source": [
    "#### HJ19 简单错误记录"
   ]
  },
  {
   "cell_type": "markdown",
   "metadata": {},
   "source": [
    "题目描述\n",
    "开发一个简单错误记录功能小模块，能够记录出错的代码所在的文件名称和行号。\n",
    "\n",
    "\n",
    "处理：\n",
    "\n",
    "\n",
    "1、 记录最多8条错误记录，循环记录，最后只用输出最后出现的八条错误记录。对相同的错误记录只记录一条，但是错误计数增加。最后一个斜杠后面的带后缀名的部分（保留最后16位）和行号完全匹配的记录才做算是”相同“的错误记录。\n",
    "2、 超过16个字符的文件名称，只记录文件的最后有效16个字符；\n",
    "3、 输入的文件可能带路径，记录文件名称不能带路径。\n",
    "4、循环记录时，只以第一次出现的顺序为准，后面重复的不会更新它的出现时间，仍以第一次为准\n",
    "\n",
    "输入描述:\n",
    "每组只包含一个测试用例。一个测试用例包含一行或多行字符串。每行包括带路径文件名称，行号，以空格隔开。\n",
    "\n",
    "输出描述:\n",
    "将所有的记录统计并将结果输出，格式：文件名 代码行数 数目，一个空格隔开"
   ]
  },
  {
   "cell_type": "code",
   "execution_count": 611,
   "metadata": {},
   "outputs": [
    {
     "name": "stdout",
     "output_type": "stream",
     "text": [
      "D:\\zwtymj\\xccb\\ljj\\cqzlyaszjvlsjmkwoqijggmybr 645\n",
      "cqzlyaszjvlsjmkwoqijggmybr645\n"
     ]
    }
   ],
   "source": [
    "all_record = []\n",
    "record_count = {}\n",
    "while True:\n",
    "    try:\n",
    "        raw_record = input()\n",
    "        list_record = raw_record.split(' ')\n",
    "        record = [list_record[0].split('\\\\')[-1], list_record[1]]\n",
    "        if record in all_record:\n",
    "            pass\n",
    "        else:\n",
    "            all_record.append(record) # add to all record\n",
    "        if ''.join(record) in record_count: # add to each record count\n",
    "            record_count[''.join(record)] += 1\n",
    "        else:\n",
    "            record_count[''.join(record)] = 1\n",
    "    except:\n",
    "        break\n",
    "# print out record\n",
    "if len(all_record) <= 8:\n",
    "    for i in all_record:\n",
    "        if len(i[0]) <= 16:\n",
    "            print(i[0], i[1], str(record_count[''.join(i)]))\n",
    "        else:\n",
    "            print(i[0][-16:], i[1], str(record_count[''.join(i)]))\n",
    "else:\n",
    "    for j in all_record[-8:]:\n",
    "        if len(j[0]) <= 16:\n",
    "            print(j[0], j[1], str(record_count[''.join(j)]))\n",
    "        else:\n",
    "            print(j[0][-16:], j[1], str(record_count[''.join(j)]))"
   ]
  },
  {
   "cell_type": "markdown",
   "metadata": {},
   "source": [
    "#### HJ20 \t密码验证合格程序"
   ]
  },
  {
   "cell_type": "markdown",
   "metadata": {},
   "source": [
    "题目描述\n",
    "密码要求:\n",
    "\n",
    "1.长度超过8位\n",
    "\n",
    "2.包括大小写字母.数字.其它符号,以上四种至少三种\n",
    "\n",
    "3.不能有相同长度大于2的子串重复\n",
    "\n",
    "输入描述:\n",
    "一组或多组长度超过2的子符串。每组占一行\n",
    "\n",
    "输出描述:\n",
    "如果符合要求输出：OK，否则输出NG"
   ]
  },
  {
   "cell_type": "code",
   "execution_count": 673,
   "metadata": {},
   "outputs": [
    {
     "name": "stdout",
     "output_type": "stream",
     "text": [
      "837490231jkhsklfj''q\n",
      "False\n",
      "OK\n",
      "\n"
     ]
    }
   ],
   "source": [
    "def check_code(s):\n",
    "    lower = 0\n",
    "    upper = 0\n",
    "    num = 0\n",
    "    punc = 0\n",
    "    for i in s:\n",
    "        if i.islower():\n",
    "            lower = 1\n",
    "        elif i.isupper():\n",
    "            upper = 1\n",
    "        elif i.isdigit():\n",
    "            num = 1\n",
    "        else:\n",
    "            punc = 1\n",
    "    if lower+upper+num+punc < 3:\n",
    "        return True\n",
    "    else:\n",
    "        return False\n",
    "\n",
    "    \n",
    "def check_double(s):\n",
    "    sub = []\n",
    "    double = False\n",
    "    for index, i in enumerate(s[:-2]):\n",
    "        if i+s[index+1]+s[index+2] in sub:\n",
    "            double = True\n",
    "            break\n",
    "        else:\n",
    "            sub.append(i+s[index+1]+s[index+2])\n",
    "            double = False\n",
    "    return double\n",
    "\n",
    "while True:\n",
    "    try:\n",
    "        code = input()\n",
    "        valid = check_code(code)\n",
    "        double = check_double(code)\n",
    "        if len(code) < 9:\n",
    "            print('NG')\n",
    "        elif valid:\n",
    "            print('NG')\n",
    "        elif double:\n",
    "            print('NG')\n",
    "        else:\n",
    "            print('OK')\n",
    "    except:\n",
    "        break"
   ]
  },
  {
   "cell_type": "markdown",
   "metadata": {},
   "source": [
    "#### HJ21 简单密码破解"
   ]
  },
  {
   "cell_type": "markdown",
   "metadata": {},
   "source": [
    "题目描述\n",
    "密码是我们生活中非常重要的东东，我们的那么一点不能说的秘密就全靠它了。哇哈哈. 接下来渊子要在密码之上再加一套密码，虽然简单但也安全。\n",
    "\n",
    " \n",
    "\n",
    "假设渊子原来一个BBS上的密码为zvbo9441987,为了方便记忆，他通过一种算法把这个密码变换成YUANzhi1987，这个密码是他的名字和出生年份，怎么忘都忘不了，而且可以明目张胆地放在显眼的地方而不被别人知道真正的密码。\n",
    "\n",
    " \n",
    "\n",
    "他是这么变换的，大家都知道手机上的字母： 1--1， abc--2, def--3, ghi--4, jkl--5, mno--6, pqrs--7, tuv--8 wxyz--9, 0--0,就这么简单，渊子把密码中出现的小写字母都变成对应的数字，数字和其他的符号都不做变换，\n",
    "\n",
    " \n",
    "\n",
    "声明：密码中没有空格，而密码中出现的大写字母则变成小写之后往后移一位，如：X，先变成小写，再往后移一位，不就是y了嘛，简单吧。记住，z往后移是a哦。\n",
    "\n",
    "\n",
    "输入描述:\n",
    "输入包括多个测试数据。输入是一个明文，密码长度不超过100个字符，输入直到文件结尾\n",
    "\n",
    "输出描述:\n",
    "输出渊子真正的密文"
   ]
  },
  {
   "cell_type": "code",
   "execution_count": 681,
   "metadata": {},
   "outputs": [
    {
     "data": {
      "text/plain": [
       "'SDF'"
      ]
     },
     "execution_count": 681,
     "metadata": {},
     "output_type": "execute_result"
    }
   ],
   "source": [
    "d = {'abc': '2', 'def': '3', 'ghi': '4', 'jkl': '5',\n",
    "    'mno': '6', 'pqrs': '7', 'tuv': '8', 'wxyz': '9'}\n",
    "while True:\n",
    "    try:\n",
    "        code = input()\n",
    "        newcode = []\n",
    "        for i in code:\n",
    "            if i.isupper():\n",
    "                if i.lower() == 'z':\n",
    "                    newcode.append('a')\n",
    "                else:\n",
    "                    num = ord(i.lower()) \n",
    "                    newcode.append(chr(num+1))\n",
    "            elif i.islower():\n",
    "                for k in d:\n",
    "                    if i in k:\n",
    "                        newcode.append(d[k])\n",
    "            else:\n",
    "                newcode.append(i)\n",
    "        print(''.join(newcode))\n",
    "    except:\n",
    "        break"
   ]
  },
  {
   "cell_type": "markdown",
   "metadata": {},
   "source": [
    "#### HJ22 汽水瓶"
   ]
  },
  {
   "cell_type": "markdown",
   "metadata": {},
   "source": [
    "题目描述\n",
    "有这样一道智力题：“某商店规定：三个空汽水瓶可以换一瓶汽水。小张手上有十个空汽水瓶，她最多可以换多少瓶汽水喝？”答案是5瓶，方法如下：先用9个空瓶子换3瓶汽水，喝掉3瓶满的，喝完以后4个空瓶子，用3个再换一瓶，喝掉这瓶满的，这时候剩2个空瓶子。然后你让老板先借给你一瓶汽水，喝掉这瓶满的，喝完以后用3个空瓶子换一瓶满的还给老板。如果小张手上有n个空汽水瓶，最多可以换多少瓶汽水喝？\n",
    "输入描述:\n",
    "输入文件最多包含10组测试数据，每个数据占一行，仅包含一个正整数n（1<=n<=100），表示小张手上的空汽水瓶数。n=0表示输入结束，你的程序不应当处理这一行。\n",
    "\n",
    "输出描述:\n",
    "对于每组测试数据，输出一行，表示最多可以喝的汽水瓶数。如果一瓶也喝不到，输出0。"
   ]
  },
  {
   "cell_type": "code",
   "execution_count": 621,
   "metadata": {},
   "outputs": [
    {
     "name": "stdout",
     "output_type": "stream",
     "text": [
      "81\n",
      "40\n",
      "10\n",
      "5\n",
      "0\n"
     ]
    }
   ],
   "source": [
    "def exchange(num):\n",
    "    get_new = num//3\n",
    "    remain = get_new+num%3\n",
    "    return get_new, remain\n",
    "\n",
    "while True:\n",
    "    num = int(input())\n",
    "    if num == 0:\n",
    "        break\n",
    "    total_new = 0\n",
    "    while num > 2:\n",
    "        total_new += exchange(num)[0]\n",
    "        num = exchange(num)[1]\n",
    "    if num == 2:\n",
    "        total_new += 1\n",
    "    print(total_new)"
   ]
  },
  {
   "cell_type": "markdown",
   "metadata": {},
   "source": [
    "#### HJ24 合唱队"
   ]
  },
  {
   "cell_type": "markdown",
   "metadata": {},
   "source": [
    "题目描述\n",
    "计算最少出列多少位同学，使得剩下的同学排成合唱队形\n",
    "\n",
    "说明：\n",
    "\n",
    "N位同学站成一排，音乐老师要请其中的(N-K)位同学出列，使得剩下的K位同学排成合唱队形。\n",
    "合唱队形是指这样的一种队形：设K位同学从左到右依次编号为1，2…，K，他们的身高分别为T1，T2，…，TK，   则他们的身高满足存在i（1<=i<=K）使得T1<T2<......<Ti-1<Ti>Ti+1>......>TK。\n",
    "\n",
    "你的任务是，已知所有N位同学的身高，计算最少需要几位同学出列，可以使得剩下的同学排成合唱队形。\n",
    "\n",
    "注意不允许改变队列元素的先后顺序\n",
    "请注意处理多组输入输出！\n",
    "\n",
    "输入描述:\n",
    "整数N\n",
    "\n",
    "输出描述:\n",
    "最少需要几位同学出列"
   ]
  },
  {
   "cell_type": "code",
   "execution_count": 735,
   "metadata": {},
   "outputs": [
    {
     "name": "stdout",
     "output_type": "stream",
     "text": [
      "['200', '160', '130', '197', '200']\n",
      "['200', '160', '130', '197', '200']\n",
      "['200', '160', '130', '197', '200']\n",
      "['200', '160', '130', '197', '200']\n",
      "['200', '160', '130', '200']\n",
      "['200', '160', '130', '200']\n",
      "['200', '160', '130', '200']\n",
      "['200', '160', '130', '200']\n",
      "['200', '160', '130']\n",
      "['200', '160', '130']\n",
      "['200', '150', '186', '186']\n",
      "['200', '150', '186', '186']\n",
      "['200', '150', '186', '186']\n",
      "['200', '150', '186']\n",
      "['200', '150', '186']\n",
      "['200', '150', '186']\n",
      "['200', '150']\n"
     ]
    },
    {
     "data": {
      "text/plain": [
       "4"
      ]
     },
     "execution_count": 735,
     "metadata": {},
     "output_type": "execute_result"
    }
   ],
   "source": [
    "a = ['200', '150', '186', '186']\n",
    "b = ['200', '160', '130', '197', '200']\n",
    "def clean_team(team):\n",
    "    clean = False\n",
    "    count = 0\n",
    "    while clean == False:\n",
    "        clean = False\n",
    "        for index, i in enumerate(team[:-1]):\n",
    "            print(team)\n",
    "            if team[index+1] > i:\n",
    "                print(team)\n",
    "                team.pop(index+1)\n",
    "                count += 1\n",
    "                clean = False\n",
    "                break\n",
    "            clean = True\n",
    "    return count\n",
    "clean_team(b)+clean_team(a)"
   ]
  },
  {
   "cell_type": "code",
   "execution_count": 734,
   "metadata": {},
   "outputs": [
    {
     "data": {
      "text/plain": [
       "True"
      ]
     },
     "execution_count": 734,
     "metadata": {},
     "output_type": "execute_result"
    }
   ],
   "source": [
    "# team = [186, 186, 150, 200, 160, 130, 197, 200]\n",
    "def clean_team(team):\n",
    "    count = 0\n",
    "    clean = False\n",
    "    while clean == False:\n",
    "        clean = False\n",
    "        for index, i in enumerate(team[:-1]):\n",
    "            if team[index+1] > i:\n",
    "                team.pop(index+1)\n",
    "                count += 1\n",
    "                clean = False\n",
    "                break\n",
    "            clean = True\n",
    "    return count\n",
    "\n",
    "num = int(input())\n",
    "team = input().split(' ')\n",
    "mx = 0\n",
    "mx_pos = []\n",
    "out = []\n",
    "for i in team[1:-1]:\n",
    "    if int(i) > mx:\n",
    "        mx = int(i)\n",
    "# print(mx)\n",
    "for index, j in enumerate(team[1:-1]):\n",
    "    if int(j) == mx:\n",
    "        mx_pos.append(index+1)\n",
    "# print(mx_pos)\n",
    "for p in mx_pos:\n",
    "    sub1 = team[0:p+1]\n",
    "    sub2 = team[p:]\n",
    "    sub1.reverse()\n",
    "#     print(sub1)\n",
    "#     print(sub2)\n",
    "    count = clean_team(sub1)+clean_team(sub2)\n",
    "#     print(count)\n",
    "    out.append(count)\n",
    "print(min(out))\n",
    "# print(count)"
   ]
  },
  {
   "cell_type": "markdown",
   "metadata": {},
   "source": [
    "#### HJ25 数据分类处理"
   ]
  },
  {
   "cell_type": "markdown",
   "metadata": {},
   "source": [
    "题目描述\n",
    "信息社会，有海量的数据需要分析处理，比如公安局分析身份证号码、 QQ 用户、手机号码、银行帐号等信息及活动记录。\n",
    "\n",
    "采集输入大数据和分类规则，通过大数据分类处理程序，将大数据分类输出。"
   ]
  },
  {
   "cell_type": "code",
   "execution_count": 801,
   "metadata": {},
   "outputs": [
    {
     "name": "stdout",
     "output_type": "stream",
     "text": [
      "7 6396 4598 8539 6047 2019 11269 7402\n",
      "3 16 4 26\n",
      "[26, 4]\n",
      "[4, 26]\n"
     ]
    }
   ],
   "source": [
    "while True:\n",
    "    try:\n",
    "        I = input().split()[1:]\n",
    "        R = input().split()[1:]\n",
    "        R = list(set(R))\n",
    "        R.sort()\n",
    "        out = {}\n",
    "        for r in R:\n",
    "            for index, i in enumerate(I):\n",
    "                if r in i:\n",
    "                    if r in out:\n",
    "                        out[r].append([index, i])\n",
    "                    else:\n",
    "                        out[r] = [[index, i]]\n",
    "        lst = list(out)\n",
    "        for index, i in enumerate(lst):\n",
    "            lst[index] = int(i)\n",
    "        lst.sort()\n",
    "        final = []\n",
    "        for i in lst:\n",
    "            final.append(i)\n",
    "            final.append(len(out[str(i)]))\n",
    "            for j in out[str(i)]:\n",
    "                for k in j:\n",
    "                    final.append(k)\n",
    "        print(len(final), end=' ')\n",
    "        for f in final:\n",
    "            print(f, end=' ')\n",
    "        print('', end='\\n')\n",
    "    except:\n",
    "        break"
   ]
  },
  {
   "cell_type": "markdown",
   "metadata": {},
   "source": [
    "#### HJ50 四则运算"
   ]
  },
  {
   "cell_type": "markdown",
   "metadata": {},
   "source": [
    "题目描述\n",
    "输入一个表达式（用字符串表示），求这个表达式的值。\n",
    "保证字符串中的有效字符包括[‘0’-‘9’],‘+’,‘-’, ‘*’,‘/’ ,‘(’， ‘)’,‘[’, ‘]’,‘{’ ,‘}’。且表达式一定合法。"
   ]
  },
  {
   "cell_type": "code",
   "execution_count": 742,
   "metadata": {},
   "outputs": [
    {
     "data": {
      "text/plain": [
       "25"
      ]
     },
     "execution_count": 742,
     "metadata": {},
     "output_type": "execute_result"
    }
   ],
   "source": [
    "a = \"3+2*{1+2*[-4/(8-6)+7]}\"\n",
    "a = a.replace('{', '(')\n",
    "a = a.replace('}', ')')\n",
    "a = a.replace('[', '(')\n",
    "a = a.replace(']', ')')\n",
    "b = int(eval(a))\n",
    "b"
   ]
  },
  {
   "cell_type": "code",
   "execution_count": null,
   "metadata": {},
   "outputs": [],
   "source": [
    "def pri(a):\n",
    "    if a == '(':\n",
    "        return 1\n",
    "    elif a == '+' or a == '-':\n",
    "        return 2\n",
    "    elif a == '*' or a == '/':\n",
    "        return 3\n",
    "\n",
    "def cal(a,b,c):\n",
    "    if c == '-':\n",
    "        return int(a) - int(b)\n",
    "    elif c == '+':\n",
    "        return  int(a) + int(b)\n",
    "    elif c == '*':\n",
    "        return int(a) * int(b)\n",
    "    elif c == '/':\n",
    "        return int(a)//int(b)\n",
    "while True:\n",
    "    try:\n",
    "        s = input().strip()\n",
    "        data = []\n",
    "        yunsuan = []\n",
    "        s = s.replace('[','(')\n",
    "        s = s.replace('{','(')\n",
    "        s = s.replace('}',')')\n",
    "        s = s.replace(']',')')\n",
    "        i = 0\n",
    "        while i < len(s):\n",
    "            if s[i].isdigit():   #处理数字\n",
    "                j = i\n",
    "                while j < len(s) and s[j].isdigit() :\n",
    "                    j = j + 1\n",
    "                data.append(s[i:j])\n",
    "                i = j\n",
    "            elif s[i] in ['+','-','*','/']:\n",
    "                if s[i] == '-':   #处理负数的情况，在-前面加上0\n",
    "                    if i==0 or not s[i-1].isdigit() and s[i-1]!=')':\n",
    "                        s = list(s)\n",
    "                        s.insert(i,'0')\n",
    "                        s = ''.join(s)\n",
    "                        continue\n",
    "                if not yunsuan:\n",
    "                    yunsuan.append(s[i])\n",
    "                else:\n",
    "                    if pri(s[i]) > pri(yunsuan[-1]):\n",
    "                        yunsuan.append(s[i])\n",
    "                    else:\n",
    "                        while yunsuan and pri(s[i]) <= pri(yunsuan[-1]):\n",
    "                            sym = yunsuan.pop()\n",
    "                            data.append(sym)\n",
    "                        yunsuan.append(s[i])\n",
    "                i = i+ 1\n",
    "            else:\n",
    "                if s[i] == '(':\n",
    "                    yunsuan.append(s[i])\n",
    "                else:\n",
    "                    while yunsuan[-1] != '(':\n",
    "                        data.append(yunsuan.pop())\n",
    "                    yunsuan.pop()\n",
    "                i = i + 1\n",
    "        while yunsuan:\n",
    "            data.append(yunsuan.pop())\n",
    "        #print(data)\n",
    "        j = 0\n",
    "        while len(data) != 1:\n",
    "            try:\n",
    "                fl = int(data[j])\n",
    "                j += 1\n",
    "            except:\n",
    "                t1 = data.pop(j)\n",
    "                t2 = data.pop(j-1)\n",
    "                data[j-2] = str(cal(data[j-2],t2,t1))\n",
    "                j = j - 1\n",
    "        print(data[0])\n",
    "    except:\n",
    "        break"
   ]
  },
  {
   "cell_type": "code",
   "execution_count": 754,
   "metadata": {},
   "outputs": [
    {
     "name": "stdout",
     "output_type": "stream",
     "text": [
      "(    00000003210Runoob0123\n"
     ]
    }
   ],
   "source": [
    "st = \"(    00000003210Runoob01230000000\"\n",
    "print(st.strip('0'))"
   ]
  },
  {
   "cell_type": "markdown",
   "metadata": {},
   "source": [
    "#### HJ26 字符串排序"
   ]
  },
  {
   "cell_type": "markdown",
   "metadata": {},
   "source": [
    "题目描述\n",
    "编写一个程序，将输入字符串中的字符按如下规则排序。\n",
    "\n",
    "规则 1 ：英文字母从 A 到 Z 排列，不区分大小写。\n",
    "\n",
    "如，输入： Type 输出： epTy\n",
    "\n",
    "规则 2 ：同一个英文字母的大小写同时存在时，按照输入顺序排列。\n",
    "\n",
    "如，输入： BabA 输出： aABb\n",
    "\n",
    "规则 3 ：非英文字母的其它字符保持原来的位置。\n",
    "\n",
    "\n",
    "如，输入： By?e 输出： Be?y"
   ]
  },
  {
   "cell_type": "code",
   "execution_count": 770,
   "metadata": {},
   "outputs": [
    {
     "data": {
      "text/plain": [
       "'A aaAAbc dFgghh: iimM nNn oooos Sttuuuy (2012/8).'"
      ]
     },
     "execution_count": 770,
     "metadata": {},
     "output_type": "execute_result"
    }
   ],
   "source": [
    "while True:\n",
    "    try:\n",
    "        a = input()\n",
    "        b = list(a)\n",
    "        c = []\n",
    "        for i in b:\n",
    "            if i.isalpha():\n",
    "                c.append(i)\n",
    "        d = 'abcdefghijklmnopqrstuvwxyz'\n",
    "        e = []\n",
    "        for i in d:\n",
    "            for j in c:\n",
    "                if j.lower() == i:\n",
    "                    e.append(j)\n",
    "        n = 0\n",
    "        for index, i in enumerate(b):\n",
    "            if i.isalpha():\n",
    "                b[index] = e[n]\n",
    "                n += 1\n",
    "        print(''.join(b))\n",
    "    except:\n",
    "        break\n",
    "    "
   ]
  },
  {
   "cell_type": "markdown",
   "metadata": {},
   "source": [
    "#### HJ27 查找兄弟单词"
   ]
  },
  {
   "cell_type": "markdown",
   "metadata": {},
   "source": [
    "题目描述\n",
    "定义一个单词的“兄弟单词”为：交换该单词字母顺序，而不添加、删除、修改原有的字母就能生成的单词。\n",
    "兄弟单词要求和原来的单词不同。例如：ab和ba是兄弟单词。ab和ab则不是兄弟单词。\n",
    "现在给定你n个单词，另外再给你一个单词str，让你寻找str的兄弟单词里，字典序第k大的那个单词是什么？\n",
    "注意：字典中可能有重复单词。本题含有多组输入数据。\n",
    "\n",
    "输入描述:\n",
    "先输入单词的个数n，再输入n个单词。\n",
    "再输入一个单词，为待查找的单词x\n",
    "最后输入数字k\n",
    "\n",
    "输出描述:\n",
    "输出查找到x的兄弟单词的个数m\n",
    "然后输出查找到的按照字典顺序排序后的第k个兄弟单词，没有符合第k个的话则不用输出。"
   ]
  },
  {
   "cell_type": "code",
   "execution_count": 787,
   "metadata": {},
   "outputs": [
    {
     "data": {
      "text/plain": [
       "False"
      ]
     },
     "execution_count": 787,
     "metadata": {},
     "output_type": "execute_result"
    }
   ],
   "source": [
    "while True:\n",
    "    try:\n",
    "        a = input().split()\n",
    "        b = a[1:-2]\n",
    "        c = a[-2]\n",
    "        d = int(a[-1])\n",
    "        out = []\n",
    "        for i in b:\n",
    "            if i == c:\n",
    "                b.remove(i)\n",
    "        for j in b:\n",
    "            m = list(j)\n",
    "            m.sort()\n",
    "            n = list(c)\n",
    "            n.sort()\n",
    "            if m == n:\n",
    "                out.append(j)\n",
    "        out.sort()\n",
    "        print(len(out))\n",
    "        print(out[d-1])\n",
    "    except:\n",
    "        break"
   ]
  },
  {
   "cell_type": "markdown",
   "metadata": {},
   "source": [
    "#### HJ28 素数伴侣"
   ]
  },
  {
   "cell_type": "markdown",
   "metadata": {},
   "source": [
    "题目描述\n",
    "若两个正整数的和为素数，则这两个正整数称之为“素数伴侣”，如2和5、6和13，它们能应用于通信加密。现在密码学会请你设计一个程序，从已有的N（N为偶数）个正整数中挑选出若干对组成“素数伴侣”，挑选方案多种多样，例如有4个正整数：2，5，6，13，如果将5和6分为一组中只能得到一组“素数伴侣”，而将2和5、6和13编组将得到两组“素数伴侣”，能组成“素数伴侣”最多的方案称为“最佳方案”，当然密码学会希望你寻找出“最佳方案”。\n",
    "\n",
    "输入:\n",
    "有一个正偶数N（N≤100），表示待挑选的自然数的个数。后面给出具体的数字，范围为[2,30000]。\n",
    "\n",
    "输出:\n",
    "输出一个整数K，表示你求得的“最佳方案”组成“素数伴侣”的对数。\n",
    "\n",
    "\n",
    "输入描述:\n",
    "输入说明\n",
    "1 输入一个正偶数n\n",
    "2 输入n个整数\n",
    "注意：数据可能有多组\n",
    "\n",
    "输出描述:\n",
    "求得的“最佳方案”组成“素数伴侣”的对数。"
   ]
  },
  {
   "cell_type": "code",
   "execution_count": null,
   "metadata": {},
   "outputs": [],
   "source": []
  },
  {
   "cell_type": "code",
   "execution_count": null,
   "metadata": {},
   "outputs": [],
   "source": []
  },
  {
   "cell_type": "markdown",
   "metadata": {},
   "source": [
    "#### HJ29 字符串加解密"
   ]
  },
  {
   "cell_type": "markdown",
   "metadata": {},
   "source": [
    "题目描述\n",
    "1、对输入的字符串进行加解密，并输出。\n",
    "\n",
    "2、加密方法为：\n",
    "\n",
    "当内容是英文字母时则用该英文字母的后一个字母替换，同时字母变换大小写,如字母a时则替换为B；字母Z时则替换为a；\n",
    "\n",
    "当内容是数字时则把该数字加1，如0替换1，1替换2，9替换0；\n",
    "\n",
    "其他字符不做变化。\n",
    "\n",
    "3、解密方法为加密的逆过程。\n",
    "\n",
    "\n",
    "本题含有多组样例输入。\n",
    "输入描述:\n",
    "输入说明\n",
    "输入一串要加密的密码\n",
    "输入一串加过密的密码\n",
    "\n",
    "输出描述:\n",
    "输出说明\n",
    "输出加密后的字符\n",
    "输出解密后的字符"
   ]
  },
  {
   "cell_type": "code",
   "execution_count": null,
   "metadata": {},
   "outputs": [],
   "source": [
    "while True:\n",
    "    try:\n",
    "        a = input()\n",
    "        b = input()\n",
    "        d = 'abcdefghijklmnopqrstuvwxyz'\n",
    "        out_a = []\n",
    "        for j in a:\n",
    "            for index, i in enumerate(d[:-1]):\n",
    "                if j == 'z':\n",
    "                    out_a.append('A')\n",
    "                    break\n",
    "                elif j == 'Z':\n",
    "                    out_a.append('a')\n",
    "                    break\n",
    "                elif j == '9':\n",
    "                    out_a.append('0')\n",
    "                    break\n",
    "                elif '0' <= j <= '8':\n",
    "                    out_a.append(str(int(j)+1))\n",
    "                    break\n",
    "                elif i == j.lower():\n",
    "                    if j.islower():\n",
    "                        out_a.append(d[index+1].upper())\n",
    "                        break\n",
    "                    else:\n",
    "                        out_a.append(d[index+1])\n",
    "                        break\n",
    "        print(''.join(out_a))\n",
    "        out_b = []\n",
    "        for j in b:\n",
    "            for index, i in enumerate(d[1:]):\n",
    "                if j == 'a':\n",
    "                    out_b.append('Z')\n",
    "                    break\n",
    "                elif j == 'A':\n",
    "                    out_b.append('z')\n",
    "                    break\n",
    "                elif j == '0':\n",
    "                    out_b.append('9')\n",
    "                    break\n",
    "                elif '1' <= j <= '9':\n",
    "                    out_b.append(str(int(j)-1))\n",
    "                    break\n",
    "                elif i == j.lower():\n",
    "                    if j.islower():\n",
    "                        out_b.append(d[index].upper())\n",
    "                        break\n",
    "                    else:\n",
    "                        out_b.append(d[index])\n",
    "                        break\n",
    "        print(''.join(out_b))\n",
    "    except:\n",
    "        break"
   ]
  },
  {
   "cell_type": "code",
   "execution_count": null,
   "metadata": {},
   "outputs": [],
   "source": [
    "while True:\n",
    "    try:\n",
    "        a = input()\n",
    "        b = input()\n",
    "        m = []\n",
    "        n = []\n",
    "        for c in a:\n",
    "            c = str(c)\n",
    "            if c == 'Z':\n",
    "                c = 'a'\n",
    "            elif c == 'z':\n",
    "                c = 'A'\n",
    "            elif c.islower():\n",
    "                c = chr(ord(c)+1).upper()\n",
    "            elif c.isupper():\n",
    "                c = chr(ord(c)+1).lower()\n",
    "            elif c == '9':\n",
    "                c = '0'\n",
    "            elif c.isdigit():\n",
    "                c = str(int(c) + 1)\n",
    "            m.append(c)\n",
    "        print(''.join(m))\n",
    "        for c in b:\n",
    "            c = str(c)\n",
    "            if c == 'a':\n",
    "                c = 'Z'\n",
    "            elif c == 'A':\n",
    "                c = 'z'\n",
    "            elif c.islower():\n",
    "                c = chr(ord(c.upper())-1)\n",
    "            elif c.isupper():\n",
    "                c = chr(ord(c.lower())-1)\n",
    "            elif c == '0':\n",
    "                c = '9'\n",
    "            elif c.isdigit():\n",
    "                c = str(int(c) - 1)\n",
    "            n.append(c)\n",
    "        print(''.join(n))\n",
    "    except:\n",
    "        break"
   ]
  },
  {
   "cell_type": "markdown",
   "metadata": {},
   "source": [
    "#### HJ30 字符串合并处理"
   ]
  },
  {
   "cell_type": "markdown",
   "metadata": {},
   "source": [
    "题目描述\n",
    "按照指定规则对输入的字符串进行处理。\n",
    "\n",
    "详细描述：\n",
    "\n",
    "将输入的两个字符串合并。\n",
    "\n",
    "对合并后的字符串进行排序，要求为：下标为奇数的字符和下标为偶数的字符分别从小到大排序。这里的下标意思是字符在字符串中的位置。\n",
    "\n",
    "对排序后的字符串进行操作，如果字符为‘0’——‘9’或者‘A’——‘F’或者‘a’——‘f’，则对他们所代表的16进制的数进行BIT倒序的操作，并转换为相应的大写字符。如字符为‘4’，为0100b，则翻转后为0010b，也就是2。转换后的字符为‘2’； 如字符为‘7’，为0111b，则翻转后为1110b，也就是e。转换后的字符为大写‘E’。\n",
    "\n",
    "\n",
    "举例：输入str1为\"dec\"，str2为\"fab\"，合并为“decfab”，分别对“dca”和“efb”进行排序，排序后为“abcedf”，转换后为“5D37BF”\n",
    "\n",
    "注意本题含有多组样例输入\n",
    "\n",
    "\n",
    "输入描述:\n",
    "本题含有多组样例输入。每组样例输入两个字符串，用空格隔开。\n",
    "\n",
    "输出描述:\n",
    "输出转化后的结果。每组样例输出一行。"
   ]
  },
  {
   "cell_type": "code",
   "execution_count": 954,
   "metadata": {},
   "outputs": [
    {
     "name": "stdout",
     "output_type": "stream",
     "text": [
      "dec fab\n",
      "5D37BFabcdefghijklmnopqrstuvw\n",
      "5D3B7Fghijklmnopqrstuvw\n",
      "\n",
      "abcdefghijklmnopqrstuvw\n",
      "5D3B7Fghijklmnopqrstuvw\n"
     ]
    }
   ],
   "source": [
    "while True:\n",
    "    try:\n",
    "        a = ''.join(input().split())\n",
    "        num = 0\n",
    "        b = []\n",
    "        c = []\n",
    "        d = []\n",
    "        out = []\n",
    "        for i in a:\n",
    "            if num%2 == 0:\n",
    "                b.append(i)\n",
    "                num += 1\n",
    "            else:\n",
    "                c.append(i)\n",
    "                num += 1\n",
    "        b.sort()\n",
    "        c.sort()\n",
    "        if len(b) == len(c):\n",
    "            for i, j in zip(b, c):\n",
    "                d.append(i)\n",
    "                d.append(j)\n",
    "        else:\n",
    "            for i, j in zip(b, c):\n",
    "                d.append(i)\n",
    "                d.append(j)\n",
    "            d.append(b[-1])\n",
    "        for i in d:\n",
    "            if i in 'ghijklmnopqrstuvwxyzGHIJKLMNOPQRSTUVWXYZ':\n",
    "                out.append(i)\n",
    "                continue\n",
    "            x = int(i, 16)\n",
    "            y = list(bin(x)[2:])\n",
    "            while len(y) < 4:\n",
    "                y.insert(0, '0')\n",
    "            y.reverse()\n",
    "            z = ''.join(y)\n",
    "            r = hex(int(z[:4], 2))[2:]\n",
    "            if r.islower():\n",
    "                out.append(r.upper())\n",
    "            else:\n",
    "                out.append(r)\n",
    "        print(''.join(out))\n",
    "    except:\n",
    "        break"
   ]
  },
  {
   "cell_type": "markdown",
   "metadata": {},
   "source": [
    "#### HJ31 单词倒排"
   ]
  },
  {
   "cell_type": "code",
   "execution_count": 985,
   "metadata": {},
   "outputs": [
    {
     "data": {
      "text/plain": [
       "['a', 'b', 'c', 'd', 'f']"
      ]
     },
     "execution_count": 985,
     "metadata": {},
     "output_type": "execute_result"
    }
   ],
   "source": [
    "while True:\n",
    "    try:\n",
    "        a = input()\n",
    "        b = []\n",
    "        for i in a:\n",
    "            if i.isalpha():\n",
    "                b.append(i)\n",
    "            else:\n",
    "                b.append(' ')\n",
    "        c = ''.join(b).split()\n",
    "        c.reverse()\n",
    "        d = ' '.join(c)\n",
    "        print(d)\n",
    "    except:\n",
    "        break"
   ]
  },
  {
   "cell_type": "markdown",
   "metadata": {},
   "source": [
    "#### HJ42 学英语"
   ]
  },
  {
   "cell_type": "code",
   "execution_count": null,
   "metadata": {},
   "outputs": [],
   "source": [
    "dic_2 = {'0': '', '2': 'twenty', '3': 'thirty', '4': 'forty', '5': 'fifty', '6': 'sixty', \n",
    "        '7': 'seventy', '8': 'eighty', '9': 'ninety'}\n",
    "dic_1 = {'0': '', '1': 'one', '2': 'two', '3': 'three', '4': 'four', '5': 'five', '6': 'six', \n",
    "        '7': 'seven', '8': 'eight', '9': 'nine', '10': 'ten', '11': 'eleven', '12': 'twelve',\n",
    "        '13': 'thirteen', '14': 'fourteen', '15': 'fifteen', '16': 'sixteen', '17': 'seventeen', \n",
    "        '18': 'eighteen', '19': 'nineteen'}\n",
    "def three(num, n):\n",
    "    if len(num) < 3:\n",
    "        if int(num) < 20:\n",
    "            return [dic_1[num]]\n",
    "        elif 20 <= int(num) <= 99:\n",
    "            return dic_2[num[0]], dic_1[num[1]]\n",
    "    elif len(num) == 3:\n",
    "        if num == '000':\n",
    "            return ''\n",
    "        elif num[0] == num[1] == '0' and num[2] != '0':\n",
    "            if n > 3:\n",
    "                return [dic_1[num[2]]]\n",
    "            else:\n",
    "                return 'and', dic_1[num[2]]\n",
    "        elif num[0] == '0' and num[1] != '0':\n",
    "            if int(num[1:]) < 20:\n",
    "                if n > 3:\n",
    "                    return [dic_1[num[1:]]]\n",
    "                else:\n",
    "                    return 'and', dic_1[num[1:]]\n",
    "            elif 20 <= int(num[1:]) <= 99:\n",
    "                if n > 3:\n",
    "                    return dic_2[num[1]], dic_1[num[2]]\n",
    "                else:\n",
    "                    return dic_2[num[1]], dic_1[num[2]]\n",
    "        elif num[1] == num[2] == '0' and num[0] != '0':\n",
    "            return dic_1[num[0]], 'hundred'\n",
    "        elif num[1] == '1' and num[0] != '0':\n",
    "            return dic_1[num[0]], 'hundred and', dic_1[num[1:]]\n",
    "        elif num[1] == '0' and num[0] != '0':\n",
    "            return dic_1[num[0]], 'hundred and', dic_1[num[2]]          \n",
    "        else:\n",
    "            return dic_1[num[0]], 'hundred and', dic_2[num[1]], dic_1[num[2]]\n",
    "\n",
    "while True:\n",
    "    try:\n",
    "        n = input()\n",
    "        out = []\n",
    "        if '.' in n:\n",
    "            print('error')\n",
    "            break\n",
    "        elif len(n) > 9:\n",
    "            print('error')\n",
    "            break\n",
    "        elif int(n) < 1:\n",
    "            print('error')\n",
    "            break\n",
    "        if len(n) < 4:\n",
    "            for i in three(n, 3):\n",
    "                out.append(i)\n",
    "            if '' in out:\n",
    "                out.remove('')\n",
    "            print(' '.join(out))\n",
    "        elif 3 < len(n) < 7:\n",
    "            n1 = n[:-3]\n",
    "            n2 = n[-3:]\n",
    "            for i in three(n1, 4):\n",
    "                out.append(i)\n",
    "            out.append('thousand')\n",
    "            for j in three(n2, 3):\n",
    "                out.append(j)\n",
    "            if '' in out:\n",
    "                out.remove('')\n",
    "            print(' '.join(out))\n",
    "        elif len(n) > 6:\n",
    "            n1 = n[:-6]\n",
    "            n2 = n[-6:-3]\n",
    "            n3 = n[-3:]\n",
    "            for i in three(n1, 4):\n",
    "                out.append(i)\n",
    "            out.append('million')\n",
    "            for j in three(n2, 4):\n",
    "                out.append(j)\n",
    "            if n2 == '000':\n",
    "                pass\n",
    "            else:\n",
    "                out.append('thousand')\n",
    "            for k in three(n3, 3):\n",
    "                out.append(k)\n",
    "            if '' in out:\n",
    "                out.remove('')\n",
    "            print(' '.join(out))\n",
    "    except:\n",
    "        break"
   ]
  },
  {
   "cell_type": "code",
   "execution_count": null,
   "metadata": {},
   "outputs": [],
   "source": []
  },
  {
   "cell_type": "markdown",
   "metadata": {},
   "source": [
    "#### HJ37 统计每个月兔子总数"
   ]
  },
  {
   "cell_type": "markdown",
   "metadata": {},
   "source": [
    "有一只兔子，从出生后第3个月起每个月都生一只兔子，小兔子长到第三个月后每个月又生一只兔子，假如兔子都不死，问每个月的兔子总数为多少？"
   ]
  },
  {
   "cell_type": "code",
   "execution_count": null,
   "metadata": {},
   "outputs": [],
   "source": [
    "def fib(n):\n",
    "    if n < 3:\n",
    "        return 1\n",
    "    else:\n",
    "        return fib(n-1) + fib(n-2)\n",
    "while True:\n",
    "    try:\n",
    "        n = int(input())\n",
    "        print(fib(n))\n",
    "    except:\n",
    "        break"
   ]
  },
  {
   "cell_type": "code",
   "execution_count": null,
   "metadata": {},
   "outputs": [],
   "source": [
    "for s in sys.stdin:\n",
    "    m = int(s)\n",
    "    k3 = 0\n",
    "    k2 = 0\n",
    "    k1 = 0\n",
    "    for i in range(m):\n",
    "        k3 = k3 + k2\n",
    "        k2 = k1\n",
    "        if k3==0 and k2 == 0:\n",
    "            k1 = 1\n",
    "        elif k3==0 and k2 == 1:\n",
    "            k1 = 0\n",
    "        else:\n",
    "            k1 = k3\n",
    " \n",
    "    print(k1+k2+k3)"
   ]
  },
  {
   "cell_type": "markdown",
   "metadata": {},
   "source": [
    "#### HJ43 迷宫问题"
   ]
  },
  {
   "cell_type": "code",
   "execution_count": null,
   "metadata": {},
   "outputs": [],
   "source": [
    "import copy\n",
    "def findpath(last, current, m, n):\n",
    "    i = current[0]\n",
    "    j = current[1]\n",
    "    current = [i, j]\n",
    "    nex = [[i+1, j], [i, j+1], [i-1, j], [i, j-1]]\n",
    "    out = []\n",
    "    for i in nex:\n",
    "        if i[0] < 0 or i[0] >= m:\n",
    "            pass\n",
    "        elif i[1] < 0 or i[1] >= n:\n",
    "            pass\n",
    "        elif i == last:\n",
    "            pass\n",
    "        elif int(mx[i[0]][i[1]]) == 1:\n",
    "            pass\n",
    "        else:\n",
    "            out.append(i)\n",
    "    return out\n",
    "\n",
    "while True:\n",
    "    try:\n",
    "        a = input().split()\n",
    "        m = int(a[0])\n",
    "        n = int(a[1])\n",
    "        mx = []\n",
    "        for i in range(m):\n",
    "            b = input().split()\n",
    "            mx.append(b)\n",
    "        path = [[[0,0], [0,0]]]\n",
    "        found = False\n",
    "        while found == False:\n",
    "            newpath = []\n",
    "            for i in path:\n",
    "                p = findpath(i[-2], i[-1], m, n)\n",
    "                for j in p:\n",
    "                    k = copy.deepcopy(i)\n",
    "                    k.append(j)\n",
    "                    newpath.append(k)\n",
    "            path = copy.deepcopy(newpath)\n",
    "            for i in path:\n",
    "                if i[-1] == [m-1, n-1]:\n",
    "                    found = True\n",
    "                    for j in i[1:]:\n",
    "                        print(f'({j[0]},{j[1]})')\n",
    "                    break\n",
    "    except:\n",
    "        break"
   ]
  },
  {
   "cell_type": "markdown",
   "metadata": {},
   "source": [
    "#### HJ108 求最小公倍数"
   ]
  },
  {
   "cell_type": "code",
   "execution_count": 790,
   "metadata": {},
   "outputs": [
    {
     "name": "stdout",
     "output_type": "stream",
     "text": [
      "5 7\n",
      "5 7\n",
      "35\n",
      "8 12\n",
      "8 12\n",
      "2\n",
      "4\n",
      "24.0\n",
      "12 18\n",
      "12 18\n",
      "2\n",
      "3\n",
      "6\n",
      "36.0\n",
      "\n"
     ]
    }
   ],
   "source": [
    "while True:\n",
    "    try:\n",
    "        a = input().split()\n",
    "        b = int(a[0])\n",
    "        c = int(a[1])\n",
    "        d = []\n",
    "        print(b, c)\n",
    "        for i in range(2, b):\n",
    "            if b%i == c%i == 0:\n",
    "                print(i)\n",
    "                d.append(i)\n",
    "        if len(d) == 0:\n",
    "            print(b*c)\n",
    "        else:\n",
    "            print(max(d)*(b/max(d)*(c/max(d))))\n",
    "    except:\n",
    "        break"
   ]
  },
  {
   "cell_type": "markdown",
   "metadata": {},
   "source": [
    "#### HJ75 最长公共子串计算"
   ]
  },
  {
   "cell_type": "code",
   "execution_count": 1385,
   "metadata": {},
   "outputs": [
    {
     "name": "stdout",
     "output_type": "stream",
     "text": [
      "abc\n",
      "aabbccabcde\n",
      "3\n",
      "\n"
     ]
    }
   ],
   "source": [
    "while True:\n",
    "    try:\n",
    "        e = input()\n",
    "        r = input()\n",
    "        if len(e) < len(r):\n",
    "            a = r\n",
    "            b = e\n",
    "        else:\n",
    "            a = e\n",
    "            b = r\n",
    "        i = 0\n",
    "        o = []\n",
    "        for m in a:\n",
    "            j = len(a)-1\n",
    "            for n in range(j-i):\n",
    "                if a[i:j+1] in b:\n",
    "                    o.append(a[i:j+1])\n",
    "                j -= 1\n",
    "            i += 1\n",
    "        mx = 0\n",
    "        for x in o:\n",
    "            if len(x) > mx:\n",
    "                mx = len(x)\n",
    "        print(mx)\n",
    "    except:\n",
    "        break"
   ]
  },
  {
   "cell_type": "markdown",
   "metadata": {},
   "source": [
    "####  高精度整数加法"
   ]
  },
  {
   "cell_type": "code",
   "execution_count": null,
   "metadata": {},
   "outputs": [],
   "source": [
    "# 方法一：偷懒法\n",
    "# while True:\n",
    "#     try:\n",
    "#         print(int(input()) + int(input()))\n",
    "#     except:\n",
    "#         break\n",
    " \n",
    "# 方法二：锻炼高位数的手动加法原理\n",
    "while True:\n",
    "    try:\n",
    "        # 读入两个字符串形式的整数\n",
    "        a, b = input().strip(), input().strip()\n",
    "        # 比较两个数串的长度，并将短数串的高位补0，使两个数串的长度相等\n",
    "        if len(a) > len(b):\n",
    "            b = '0'*(len(a)-len(b)) + b\n",
    "        elif len(a) < len(b):\n",
    "            a = '0'*(len(b)-len(a)) + a\n",
    "        # 用变量carry记录上一个低位求和之后的进位数值\n",
    "        carry = 0\n",
    "        # res记录最终的求和结果\n",
    "        res = ''\n",
    "        # 从低位开始遍历每一位，到高位结束，计算和\n",
    "        for i in range(len(a)-1, -1, -1):\n",
    "            val = (int(a[i]) + int(b[i]) + carry) % 10\n",
    "            carry = (int(a[i]) + int(b[i]) + carry) // 10\n",
    "            res = str(val) + res\n",
    "        if carry == 1:\n",
    "            res = '1' + res\n",
    "        print(res)\n",
    "    except:\n",
    "        break"
   ]
  },
  {
   "cell_type": "code",
   "execution_count": 1391,
   "metadata": {},
   "outputs": [
    {
     "data": {
      "text/plain": [
       "False"
      ]
     },
     "execution_count": 1391,
     "metadata": {},
     "output_type": "execute_result"
    }
   ],
   "source": [
    "a = 'reset what'\n",
    "b = 'r w'\n",
    "b in a"
   ]
  },
  {
   "cell_type": "markdown",
   "metadata": {},
   "source": [
    "#### HJ66 配置文件恢复"
   ]
  },
  {
   "cell_type": "code",
   "execution_count": null,
   "metadata": {},
   "outputs": [],
   "source": [
    "dic1 = [['reset', 'board'], ['board', 'add'], ['board', 'delete'], \n",
    "       ['reboot', 'backplane'], ['backplane', 'abort']]\n",
    "dic2 = {'reset board': 'board fault', 'board add': 'where to add',\n",
    "       'board delete': 'no board at all', 'reboot backplane': 'impossible',\n",
    "       'backplane abort': 'install first'}\n",
    "\n",
    "while True:\n",
    "    try:\n",
    "        a = input().split()\n",
    "        if len(a) == 1:\n",
    "            if a[0] in 'reset':\n",
    "                print('reset what')\n",
    "            else:\n",
    "                print('unknown command')\n",
    "        elif len(a) == 2:\n",
    "            o = []\n",
    "            for i in dic1:\n",
    "                if a[0] in i[0]:\n",
    "                    if a[1] in i[1]:\n",
    "                        o.append(dic2[' '.join(i)])\n",
    "            if len(o) == 1:\n",
    "                print(o[0])\n",
    "            else:\n",
    "                print('unknown command')\n",
    "        else:\n",
    "            print('unknown command')\n",
    "    except:\n",
    "        break"
   ]
  },
  {
   "cell_type": "code",
   "execution_count": 1394,
   "metadata": {},
   "outputs": [
    {
     "data": {
      "text/plain": [
       "[1, None, 3]"
      ]
     },
     "execution_count": 1394,
     "metadata": {},
     "output_type": "execute_result"
    }
   ],
   "source": [
    "a = [1, 2, 3]\n",
    "a[1] = None\n",
    "a"
   ]
  },
  {
   "cell_type": "markdown",
   "metadata": {},
   "source": [
    "#### HJ32 密码截取 - 最长对称子序列"
   ]
  },
  {
   "cell_type": "code",
   "execution_count": 1445,
   "metadata": {},
   "outputs": [
    {
     "name": "stdout",
     "output_type": "stream",
     "text": [
      "abba\n",
      "4\n",
      "\n"
     ]
    }
   ],
   "source": [
    "# 从中间往两边找\n",
    "\n",
    "def look(s, l, r):\n",
    "    while l >= 0 and r < len(s) and s[l] == s[r]:\n",
    "        l -= 1\n",
    "        r += 1\n",
    "    return s[l+1:r]\n",
    "\n",
    "while True:\n",
    "    try:\n",
    "        a = input()\n",
    "        o = 0\n",
    "        for i in range(len(a)):\n",
    "            b = look(a, i, i)\n",
    "            if len(b) > o:\n",
    "                o = len(b)\n",
    "            b = look(a, i, i+1)\n",
    "            if len(b) > o:\n",
    "                o = len(b)\n",
    "        print(o)\n",
    "    except:\n",
    "        break"
   ]
  },
  {
   "cell_type": "code",
   "execution_count": 1444,
   "metadata": {},
   "outputs": [
    {
     "name": "stdout",
     "output_type": "stream",
     "text": [
      "abba\n",
      "4\n",
      "\n"
     ]
    }
   ],
   "source": [
    "# 从两边往中间找\n",
    "# ***运行超时***\n",
    "while True:\n",
    "    try:\n",
    "        a = input()\n",
    "        o = ''\n",
    "        i = 0\n",
    "        j = len(a)\n",
    "        for n in range(j-1):\n",
    "            j = len(a)\n",
    "            for m in range(j-i-1):\n",
    "                b = a[i:j]\n",
    "                if len(b) >= 2:\n",
    "                    if len(b)%2 == 0:\n",
    "                        c = list(b[:int(len(b)/2)])\n",
    "                        d = list(b[int(len(b)/2):])\n",
    "                        d.reverse()\n",
    "                        if c == d:\n",
    "                            if len(b) > len(o):\n",
    "                                o = b\n",
    "                    else:\n",
    "                        c = list(b[:int(len(b)//2)])\n",
    "                        d = list(b[int(len(b)//2+1):])\n",
    "                        d.reverse()\n",
    "                        if c == d:\n",
    "                            if len(b) > len(o):\n",
    "                                o = b\n",
    "                j -= 1\n",
    "            i += 1\n",
    "        l = 0\n",
    "        if len(o) > 0:\n",
    "            for x in o:\n",
    "                if len(x) > l:\n",
    "                    l = len(x)\n",
    "        print(len(o))\n",
    "    except:\n",
    "        break"
   ]
  },
  {
   "cell_type": "markdown",
   "metadata": {},
   "source": [
    "#### HJ56 完全数计算"
   ]
  },
  {
   "cell_type": "markdown",
   "metadata": {},
   "source": [
    "完全数（Perfect number），又称完美数或完备数，是一些特殊的自然数。\n",
    "它所有的真因子（即除了自身以外的约数）的和（即因子函数），恰好等于它本身。\n",
    "例如：28，它有约数1、2、4、7、14、28，除去它本身28外，其余5个数相加，1+2+4+7+14=28。s\n",
    "输入n，请输出n以内(含n)完全数的个数。计算范围, 0 < n <= 500000"
   ]
  },
  {
   "cell_type": "code",
   "execution_count": null,
   "metadata": {},
   "outputs": [],
   "source": [
    "def find(n):\n",
    "    s = 0\n",
    "    for i in range(1, n//2+1):\n",
    "        if n%i == 0:\n",
    "            s += i\n",
    "    return s\n",
    "\n",
    "while True:\n",
    "    try:\n",
    "        n = int(input())\n",
    "        count = 0\n",
    "        for i in range(1, n):\n",
    "            x = find(i)\n",
    "            if x == i:\n",
    "                count += 1\n",
    "        print(count)\n",
    "    except:\n",
    "        break"
   ]
  },
  {
   "cell_type": "markdown",
   "metadata": {},
   "source": [
    "#### HJ36 字符串加密"
   ]
  },
  {
   "cell_type": "code",
   "execution_count": null,
   "metadata": {},
   "outputs": [],
   "source": [
    "\n",
    "while True:\n",
    "    try:\n",
    "        dic = list('abcdefghijklmnopqrstuvwxyz')\n",
    "        raw = list('abcdefghijklmnopqrstuvwxyz')\n",
    "        a = input()\n",
    "        b = input()\n",
    "        c = []\n",
    "        for i in a:\n",
    "            if i in dic:\n",
    "                c.append(i)\n",
    "                dic.remove(i)\n",
    "        c = c + dic\n",
    "        d = []\n",
    "        for i in b:\n",
    "            d.append(c[raw.index(i)])\n",
    "        print(''.join(d))\n",
    "    except:\n",
    "        break"
   ]
  },
  {
   "cell_type": "code",
   "execution_count": null,
   "metadata": {},
   "outputs": [],
   "source": [
    "'''\n",
    "1 <- 2\n",
    "3 <- 2\n",
    "5 <- 1\n",
    "4 <- 5\n",
    "7 <- 2\n",
    "'''"
   ]
  },
  {
   "cell_type": "code",
   "execution_count": 53,
   "metadata": {},
   "outputs": [
    {
     "name": "stdout",
     "output_type": "stream",
     "text": [
      "5\n",
      "2\n",
      "3 2\n",
      "['3', '2']\n",
      "4 3\n",
      "['4', '3']\n",
      "5 4\n",
      "['5', '4']\n",
      "6 5\n",
      "['6', '5']\n",
      "7 6\n",
      "['7', '6']\n",
      "4\n"
     ]
    }
   ],
   "source": [
    "while True:\n",
    "    try:\n",
    "        arr = []\n",
    "        x = int(input()) # insert times\n",
    "        y = int(input()) # fisrt num\n",
    "        arr.append(y)\n",
    "        for i in range(x):\n",
    "#             print(arr)\n",
    "            z = input().split()\n",
    "#             print(z)\n",
    "            m = int(z[1])\n",
    "            n = int(z[0])\n",
    "#             print(arr.index(2))\n",
    "#             print(arr.index(z[1]))\n",
    "            arr.insert(arr.index(m), n)\n",
    "        o = int(input())\n",
    "        arr.remove(o)\n",
    "        print(arr)\n",
    "        print(' '.join(arr))\n",
    "    except:\n",
    "        break"
   ]
  },
  {
   "cell_type": "code",
   "execution_count": 50,
   "metadata": {},
   "outputs": [
    {
     "data": {
      "text/plain": [
       "[1, 2, 0, 3, 4, 5]"
      ]
     },
     "execution_count": 50,
     "metadata": {},
     "output_type": "execute_result"
    }
   ],
   "source": [
    "a = [1, 2, 3, 4, 5]\n",
    "a.insert(a.index(3), 0)\n",
    "a"
   ]
  },
  {
   "cell_type": "code",
   "execution_count": null,
   "metadata": {},
   "outputs": [],
   "source": [
    "while True:\n",
    "    try:\n",
    "        arr = []\n",
    "        x = int(input()) # insert times\n",
    "        y = int(input()) # fisrt num\n",
    "        arr.append(y)\n",
    "        for i in range(x-1):\n",
    "            z = input().split()\n",
    "#             print(z)\n",
    "            m = int(z[1])\n",
    "            n = int(z[0])\n",
    "#             print(arr.index(2))\n",
    "#             print(arr.index(z[1]))\n",
    "            arr.insert(arr.index(m)+1, n)\n",
    "#             print(arr)\n",
    "        o = int(input())\n",
    "        arr.remove(o)\n",
    "#         print(arr)\n",
    "        for i in arr[:-1]:\n",
    "            print(i, end=' ')\n",
    "        print(arr[-1])\n",
    "#         print(' '.join(arr))\n",
    "    except:\n",
    "        break"
   ]
  },
  {
   "cell_type": "code",
   "execution_count": 55,
   "metadata": {},
   "outputs": [
    {
     "data": {
      "text/plain": [
       "'1 2'"
      ]
     },
     "execution_count": 55,
     "metadata": {},
     "output_type": "execute_result"
    }
   ],
   "source": [
    "while True:\n",
    "    try:\n",
    "        a = input().split()\n",
    "        arr = []\n",
    "        x = a[0] # insert times\n",
    "        y = a[1] # fisrt num\n",
    "        arr.append(y)\n",
    "        k = 2\n",
    "        for i in range(x-1):\n",
    "            m = a[k]\n",
    "            n = a[k+1]\n",
    "            arr.insert(arr.index(m)+1, n)\n",
    "            k += 2\n",
    "        o = a[-1]\n",
    "        arr.remove(o)\n",
    "        for i in arr[:-1]:\n",
    "            print(i, end=' ')\n",
    "        print(arr[-1])\n",
    "    except:\n",
    "        break"
   ]
  },
  {
   "cell_type": "code",
   "execution_count": 57,
   "metadata": {},
   "outputs": [],
   "source": [
    "for i in range(2, 2):\n",
    "    print(i)"
   ]
  },
  {
   "cell_type": "markdown",
   "metadata": {},
   "source": [
    "#### HJ53 杨辉三角形-第n行第1个偶数"
   ]
  },
  {
   "cell_type": "code",
   "execution_count": 97,
   "metadata": {},
   "outputs": [
    {
     "name": "stdout",
     "output_type": "stream",
     "text": [
      "-1\n"
     ]
    }
   ],
   "source": [
    "memo = {}\n",
    "def tri(n, memo):\n",
    "    for j in range(1, n+1):\n",
    "        if j == 1:\n",
    "            memo[j] = [1]\n",
    "        elif j == 2:\n",
    "            memo[j] = [1, 1, 1]\n",
    "        elif j == 3:\n",
    "            memo[j] = [1, 2, 3, 2, 1]\n",
    "        else:\n",
    "            res = [1 for x in range(2*j-1)]\n",
    "            res[1] = memo[j-1][1]+1\n",
    "            res[-2] = res[1]\n",
    "            for index, i in enumerate(res[2:-2]):\n",
    "                res[index+2] = memo[j-1][index] + memo[j-1][index+1] + memo[j-1][index+2]\n",
    "            memo[j] = res\n",
    "    return memo[n]\n",
    "out = tri(2, memo)\n",
    "count = 0\n",
    "for index, i in enumerate(out):\n",
    "    if i%2 == 0:\n",
    "        count += 1\n",
    "        print(index+1)\n",
    "        break\n",
    "if count == 0:\n",
    "    print('-1')"
   ]
  },
  {
   "cell_type": "code",
   "execution_count": 99,
   "metadata": {},
   "outputs": [
    {
     "data": {
      "text/plain": [
       "(8, 9)"
      ]
     },
     "execution_count": 99,
     "metadata": {},
     "output_type": "execute_result"
    }
   ],
   "source": [
    "a = 9\n",
    "b = 8\n",
    "if a > b:\n",
    "    a, b = b, a\n",
    "a, b"
   ]
  },
  {
   "cell_type": "code",
   "execution_count": 100,
   "metadata": {},
   "outputs": [
    {
     "name": "stdout",
     "output_type": "stream",
     "text": [
      "3\n",
      "4\n",
      "5\n"
     ]
    }
   ],
   "source": [
    "for i in range(3, 6):\n",
    "    print(i)"
   ]
  },
  {
   "cell_type": "markdown",
   "metadata": {},
   "source": [
    "#### HJ59 找出第一个只出现一次的字符"
   ]
  },
  {
   "cell_type": "code",
   "execution_count": null,
   "metadata": {},
   "outputs": [],
   "source": [
    "while True:\n",
    "    try:\n",
    "        a = input()\n",
    "        dic = {}\n",
    "        for i in a:\n",
    "            if i in dic:\n",
    "                dic[i] +=1\n",
    "            else:\n",
    "                dic[i] = 1\n",
    "        out = []\n",
    "        for i in dic:\n",
    "            if dic[i] == 1:\n",
    "                out.append(i)\n",
    "        if len(out) > 0:\n",
    "            for i in a:\n",
    "                if i in out:\n",
    "                    print(i)\n",
    "                    break\n",
    "        else:\n",
    "            print('-1')\n",
    "    except:\n",
    "        break"
   ]
  },
  {
   "cell_type": "code",
   "execution_count": null,
   "metadata": {},
   "outputs": [],
   "source": [
    "while True:\n",
    "    try:\n",
    "        s=input()\n",
    "        for i in s:\n",
    "            if s.count(i)==1:\n",
    "                print(i)\n",
    "                break\n",
    "        else:\n",
    "                print(-1)\n",
    "    except:\n",
    "        break"
   ]
  },
  {
   "cell_type": "markdown",
   "metadata": {},
   "source": [
    "#### HJ60 查找组成一个偶数最接近的两个素数"
   ]
  },
  {
   "cell_type": "code",
   "execution_count": 117,
   "metadata": {},
   "outputs": [
    {
     "name": "stdout",
     "output_type": "stream",
     "text": [
      "20\n",
      "7\n",
      "13\n",
      "\n"
     ]
    }
   ],
   "source": [
    "def test(n):\n",
    "    p = True\n",
    "    for i in range(2, int(n**0.5+1)):\n",
    "        if n%i == 0:\n",
    "            p = False\n",
    "    return p\n",
    "\n",
    "while True:\n",
    "    try:\n",
    "        n = int(input())\n",
    "        l = n//2\n",
    "        r = l\n",
    "        while l > 2:\n",
    "            if test(l) and test(r):\n",
    "                print(l)\n",
    "                print(r)\n",
    "                break\n",
    "            l -= 1\n",
    "            r += 1\n",
    "    except:\n",
    "        break"
   ]
  },
  {
   "cell_type": "code",
   "execution_count": 120,
   "metadata": {},
   "outputs": [
    {
     "name": "stdout",
     "output_type": "stream",
     "text": [
      "3 2\n",
      "3 2\n"
     ]
    }
   ],
   "source": [
    "m,n = map(int,input().split())\n",
    "print(m, n)"
   ]
  },
  {
   "cell_type": "code",
   "execution_count": 121,
   "metadata": {},
   "outputs": [
    {
     "data": {
      "text/plain": [
       "0.5294117647058824"
      ]
     },
     "execution_count": 121,
     "metadata": {},
     "output_type": "execute_result"
    }
   ],
   "source": [
    "def ratio(s):\n",
    "    return (s.count('C')+s.count('G'))/len(s)\n",
    "ratio('AACTGTGCACGACCTGA')"
   ]
  },
  {
   "cell_type": "markdown",
   "metadata": {},
   "source": [
    "#### HJ72 百鸡百钱问题"
   ]
  },
  {
   "cell_type": "code",
   "execution_count": 122,
   "metadata": {},
   "outputs": [
    {
     "name": "stdout",
     "output_type": "stream",
     "text": [
      "1\n",
      "0 25 75\n",
      "4 18 78\n",
      "8 11 81\n",
      "12 4 84\n",
      "\n"
     ]
    }
   ],
   "source": [
    "def count():\n",
    "    for i in range(15):\n",
    "        a = 100-7*i\n",
    "        if a%4 == 0:\n",
    "            y = a/4\n",
    "            x = i\n",
    "            z = 100-x-y\n",
    "            print(int(x), int(y), int(z))\n",
    "while True:\n",
    "    try:\n",
    "        a = input()\n",
    "        count()\n",
    "    except:\n",
    "        break"
   ]
  },
  {
   "cell_type": "markdown",
   "metadata": {},
   "source": [
    "#### HJ64 MP3 光标位置"
   ]
  },
  {
   "cell_type": "code",
   "execution_count": 43,
   "metadata": {},
   "outputs": [
    {
     "name": "stdout",
     "output_type": "stream",
     "text": [
      "10\n",
      "UUUU\n",
      "7 8 9 10\n",
      "7\n",
      "\n"
     ]
    }
   ],
   "source": [
    "while True:\n",
    "    try:\n",
    "        n = int(input())\n",
    "        a = list(input())\n",
    "        b = [i for i in range(1, n+1)]\n",
    "        c = 1\n",
    "        l = 0\n",
    "        r = l+3\n",
    "        for i in a:\n",
    "            if i == 'U':\n",
    "                c -= 1\n",
    "            else:\n",
    "                c += 1\n",
    "            if c > n:\n",
    "                c = 1\n",
    "                l = 0\n",
    "                r = l+3\n",
    "            elif c < 1:\n",
    "                c = n\n",
    "                r = n-1\n",
    "                l = r-3\n",
    "            else:\n",
    "                if c > r+1:\n",
    "                    l +=1 \n",
    "                    r += 1\n",
    "                elif c < l+1:\n",
    "                    l -= 1\n",
    "                    r -= 1\n",
    "            out = b[l:(r+1)]\n",
    "            o = []\n",
    "            for i in out:\n",
    "                o.append(str(i))\n",
    "        print(' '.join(o))\n",
    "        print(c)\n",
    "    except:\n",
    "        break"
   ]
  },
  {
   "cell_type": "markdown",
   "metadata": {},
   "source": [
    "#### HJ71 字符串通配符"
   ]
  },
  {
   "cell_type": "code",
   "execution_count": 53,
   "metadata": {},
   "outputs": [
    {
     "name": "stdout",
     "output_type": "stream",
     "text": [
      "f*kdalchp*hxfbfyld*\n",
      "ftkdalchpmhxfbfyldc\n",
      "true\n",
      "lzgotxxp*o?q?xnctvqxc*f\n",
      "lzgotxxprorqbxnctvqxclf\n",
      "true\n",
      "lzgotxxp*o?q?xnctvqxc*f\n",
      "lzgotxxprorqbxnctvqxclc\n",
      "false\n",
      "\n"
     ]
    }
   ],
   "source": [
    "while True:\n",
    "    try:\n",
    "        a = input()\n",
    "        b = input()\n",
    "        i, j = 0, 0\n",
    "        good = 'true'\n",
    "        for n in range(len(b)):\n",
    "            if a[i] == b[j]:\n",
    "                i += 1\n",
    "                j += 1\n",
    "            else:\n",
    "                if n == len(b)-1:\n",
    "                    if a[i] == '?' or a[i] == '*':\n",
    "                        continue\n",
    "                    else:\n",
    "                        good = 'false'\n",
    "                else:\n",
    "                    if a[i] == '?':\n",
    "                        if a[i+1] == b[j+1]:\n",
    "                            i += 1\n",
    "                            j += 1\n",
    "                        elif a[i+1] == '?' or a[i+1] == '*':\n",
    "                            continue\n",
    "                        else:\n",
    "                            good = 'false'\n",
    "                    elif a[i] == '*':\n",
    "                        if j+1 == len(b)-1:\n",
    "                            if a[i+1] == b[j+1]:\n",
    "                                continue\n",
    "                            else:\n",
    "                                good = 'false'\n",
    "                        else:\n",
    "                            if a[i+1] == b[j+1]:\n",
    "                                i += 1\n",
    "                                j += 1\n",
    "                            elif a[i+1] == '?' or a[i+1] == '*':\n",
    "                                continue\n",
    "                            else:\n",
    "                                j += 1\n",
    "                    else:\n",
    "                        good = 'false'\n",
    "        print(good)\n",
    "    except:\n",
    "        break"
   ]
  },
  {
   "cell_type": "code",
   "execution_count": null,
   "metadata": {},
   "outputs": [],
   "source": []
  },
  {
   "cell_type": "code",
   "execution_count": 78,
   "metadata": {},
   "outputs": [
    {
     "data": {
      "text/plain": [
       "2.2"
      ]
     },
     "execution_count": 78,
     "metadata": {},
     "output_type": "execute_result"
    }
   ],
   "source": [
    "e = 2.234532\n",
    "e = round(e, 1)\n",
    "e"
   ]
  },
  {
   "cell_type": "code",
   "execution_count": null,
   "metadata": {},
   "outputs": [],
   "source": []
  },
  {
   "cell_type": "code",
   "execution_count": null,
   "metadata": {},
   "outputs": [],
   "source": []
  },
  {
   "cell_type": "code",
   "execution_count": null,
   "metadata": {},
   "outputs": [],
   "source": []
  },
  {
   "cell_type": "code",
   "execution_count": null,
   "metadata": {},
   "outputs": [],
   "source": []
  },
  {
   "cell_type": "code",
   "execution_count": null,
   "metadata": {},
   "outputs": [],
   "source": []
  },
  {
   "cell_type": "code",
   "execution_count": null,
   "metadata": {},
   "outputs": [],
   "source": []
  }
 ],
 "metadata": {
  "kernelspec": {
   "display_name": "Python 3",
   "language": "python",
   "name": "python3"
  },
  "language_info": {
   "codemirror_mode": {
    "name": "ipython",
    "version": 3
   },
   "file_extension": ".py",
   "mimetype": "text/x-python",
   "name": "python",
   "nbconvert_exporter": "python",
   "pygments_lexer": "ipython3",
   "version": "3.7.4"
  }
 },
 "nbformat": 4,
 "nbformat_minor": 2
}
